{
 "cells": [
  {
   "cell_type": "markdown",
   "metadata": {},
   "source": [
    "At the heart of interactive full-stack apps is the need to retrieve data quickly and accurately.\n",
    "\n",
    "🔑 We use GraphQL to efficiently and precisely fetch the data queried in a single request.\n",
    "\n",
    "🔑 GraphQL is a query language that allows us to build even complex queries quickly and concisely, helping to make sure our queries fetch data -- and only the data we need -- quickly.\n",
    "\n",
    "Apollo Sandbox is an Apollo Studio Explorer tool and is a great way to to visually explore how GraphQL can be used to request and fetch data.\n",
    "\n",
    "🔑 Using the Apollo Sandbox, we can enter a query to retrieve data from our database. This query will return the names of all the classes in our database:"
   ]
  },
  {
   "cell_type": "code",
   "execution_count": null,
   "metadata": {
    "vscode": {
     "languageId": "graphql"
    }
   },
   "outputs": [],
   "source": [
    "query classes{\n",
    "    classes {\n",
    "      name\n",
    "    }\n",
    "  }"
   ]
  },
  {
   "cell_type": "markdown",
   "metadata": {},
   "source": [
    "Next, when we click the rectangular play button at the top of the screen we see a JSON object that contains only the data we requested in the response field on the left. This ability to easily write specific queries and return precise results is one of the main advantages of GraphQL.\n",
    "\n",
    "We will be using the Apollo Sandbox in today's class to test our code and make sure our queries work.\n",
    "\n",
    "🔑 To use GraphQL, we will need to set up a GraphQL server. Apollo Server is a popular GraphQL server that can be used as an add-on to an existing Node.js and Express.js server.\n",
    "\n",
    "To add Apollo Server to our existing Express.js and Node.js server structure, we run `npm install @apollo/server` and import the `ApolloServer` class and the `expressMiddleware` helper function:"
   ]
  },
  {
   "cell_type": "code",
   "execution_count": null,
   "metadata": {
    "vscode": {
     "languageId": "javascript"
    }
   },
   "outputs": [],
   "source": [
    "const { ApolloServer } = require('@apollo/server');\n",
    "const { expressMiddleware } = require('@apollo/server/express4');"
   ]
  },
  {
   "cell_type": "markdown",
   "metadata": {},
   "source": [
    "We must also import the `schemas` directory. GraphQL relies on a schema bundle that includes two parts: the `typeDefs`, which defines the schema, and `resolvers`, or functions, that are responsible for populating data for a single field in the schema:"
   ]
  },
  {
   "cell_type": "code",
   "execution_count": null,
   "metadata": {
    "vscode": {
     "languageId": "javascript"
    }
   },
   "outputs": [],
   "source": [
    "const { typeDefs, resolvers } = require('./schemas');"
   ]
  },
  {
   "cell_type": "markdown",
   "metadata": {},
   "source": [
    "We create a new instance of the `ApolloServer` class. The `ApolloServer` class instance takes both `typeDefs` and `resolvers` as parameters:"
   ]
  },
  {
   "cell_type": "code",
   "execution_count": null,
   "metadata": {
    "vscode": {
     "languageId": "javascript"
    }
   },
   "outputs": [],
   "source": [
    "const server = new ApolloServer({\n",
    "    typeDefs,\n",
    "    resolvers\n",
    "  });"
   ]
  },
  {
   "cell_type": "markdown",
   "metadata": {},
   "source": [
    "Next, we create an async function that will start our Apollo Server instance:"
   ]
  },
  {
   "cell_type": "code",
   "execution_count": null,
   "metadata": {
    "vscode": {
     "languageId": "javascript"
    }
   },
   "outputs": [],
   "source": [
    "const startApolloServer = async () => {...}"
   ]
  },
  {
   "cell_type": "markdown",
   "metadata": {},
   "source": [
    "Inside the `startApolloServer` function, we use `await` to start our server. Don't forget, we must wrap `await` inside an `async` function. Otherwise, we will get an error!"
   ]
  },
  {
   "cell_type": "code",
   "execution_count": null,
   "metadata": {
    "vscode": {
     "languageId": "javascript"
    }
   },
   "outputs": [],
   "source": [
    "await server.start()"
   ]
  },
  {
   "cell_type": "markdown",
   "metadata": {},
   "source": [
    "Since our Apollo Server works together with Express, we also create an instance of our Express app inside our async function and use it. Using an Express server gives us more flexibility in our server setup and allows additional configurations."
   ]
  },
  {
   "cell_type": "code",
   "execution_count": null,
   "metadata": {
    "vscode": {
     "languageId": "javascript"
    }
   },
   "outputs": [],
   "source": [
    "const app = express();"
   ]
  },
  {
   "cell_type": "code",
   "execution_count": null,
   "metadata": {
    "vscode": {
     "languageId": "javascript"
    }
   },
   "outputs": [],
   "source": [
    "app.use(express.urlencoded({ extended: false }));\n",
    "app.use(express.json());"
   ]
  },
  {
   "cell_type": "markdown",
   "metadata": {},
   "source": [
    "\n",
    "We call the expressMiddleware method to integrate Express.js with the Apollo Server and connect the schema. This will enable our app to use GraphQL at the /graphql endpoint:\n"
   ]
  },
  {
   "cell_type": "code",
   "execution_count": null,
   "metadata": {
    "vscode": {
     "languageId": "javascript"
    }
   },
   "outputs": [],
   "source": [
    "app.use('/graphql', expressMiddleware(server));"
   ]
  },
  {
   "cell_type": "markdown",
   "metadata": {},
   "source": [
    "Then, we start our database and call `app.listen()` to listen the connections on our specified port."
   ]
  },
  {
   "cell_type": "code",
   "execution_count": null,
   "metadata": {
    "vscode": {
     "languageId": "javascript"
    }
   },
   "outputs": [],
   "source": [
    "db.once('open', () => {\n",
    "  app.listen(PORT, () => {\n",
    "    console.log(`API server running on port ${PORT}!`);\n",
    "    console.log(`Use GraphQL at http://localhost:${PORT}/graphql`);\n",
    "    })\n",
    "  })\n",
    "};"
   ]
  },
  {
   "cell_type": "markdown",
   "metadata": {},
   "source": [
    "Since, we can enclosed our functionality in an `async` function, don't forget to call it at the bottom of of the file to run the scripts!"
   ]
  },
  {
   "cell_type": "code",
   "execution_count": null,
   "metadata": {
    "vscode": {
     "languageId": "javascript"
    }
   },
   "outputs": [],
   "source": [
    "startApolloServer();"
   ]
  },
  {
   "cell_type": "markdown",
   "metadata": {},
   "source": [
    " To integrate GraphQL in our MERN apps, we must connect a GraphQL schema to our Express.js server. We do this by adding an Apollo Server to our existing `service layer` and importing our schema."
   ]
  },
  {
   "cell_type": "code",
   "execution_count": 3,
   "metadata": {},
   "outputs": [
    {
     "name": "stdout",
     "output_type": "stream",
     "text": [
      "{'continents': [{'code': 'AF', 'name': 'Africa'}, {'code': 'AN', 'name': 'Antarctica'}, {'code': 'AS', 'name': 'Asia'}, {'code': 'EU', 'name': 'Europe'}, {'code': 'NA', 'name': 'North America'}, {'code': 'OC', 'name': 'Oceania'}, {'code': 'SA', 'name': 'South America'}]}\n"
     ]
    }
   ],
   "source": [
    "from gql import gql, Client\n",
    "from gql.transport.aiohttp import AIOHTTPTransport\n",
    "\n",
    "# Select your transport with a defined url endpoint\n",
    "transport = AIOHTTPTransport(url=\"https://countries.trevorblades.com/\")\n",
    "\n",
    "# Create a GraphQL client using the defined transport\n",
    "client = Client(transport=transport, fetch_schema_from_transport=True)\n",
    "\n",
    "# Provide a GraphQL query\n",
    "query = gql(\n",
    "    \"\"\"\n",
    "    query getContinents {\n",
    "      continents {\n",
    "        code\n",
    "        name\n",
    "      }\n",
    "    }\n",
    "\"\"\"\n",
    ")\n",
    "\n",
    "# Execute the query on the transport\n",
    "result = await client.execute_async(query)\n",
    "print(result)"
   ]
  },
  {
   "cell_type": "markdown",
   "metadata": {},
   "source": [
    "### 2.1.2 Practice Activity: Queries"
   ]
  },
  {
   "cell_type": "markdown",
   "metadata": {},
   "source": [
    "GraphQL is organized using types and fields. The query type gives us the entry point for our query. The object type provides the fields that we can use to retrieve data. We start by listing the entry point for the data we want to use. Then, we add the fields we want included in our results.\n",
    "\n",
    "🔑 We click on the `schema` icon at the top left under the Apollo logo. Then select SDL inspect our app's schema. If the server has been correctly set up, we should see the schema's object and query types auto-populate.\n",
    "\n",
    "`Object` types represent objects we can fetch and the fields it contains. The Class object has an `_id`, `name`, `building`, and `creditHours` fields. In addition, the `professor` field is a queryable field that holds a single `Professor` object:"
   ]
  },
  {
   "cell_type": "code",
   "execution_count": null,
   "metadata": {
    "vscode": {
     "languageId": "graphql"
    }
   },
   "outputs": [],
   "source": [
    "type Class {\n",
    "  _id: ID\n",
    "  name: String\n",
    "  building: String\n",
    "  creditHours: Int\n",
    "  professor: Professor\n",
    "}"
   ]
  },
  {
   "cell_type": "markdown",
   "metadata": {},
   "source": [
    "🔑 The `Query type` tells us what data we can access and the entry point to that data. To access the array of `Class` objects, we use the `classes` entry point:"
   ]
  },
  {
   "cell_type": "code",
   "execution_count": null,
   "metadata": {
    "vscode": {
     "languageId": "graphql"
    }
   },
   "outputs": [],
   "source": [
    "type Query {\n",
    "    schools: [School]\n",
    "    classes: [Class]\n",
    "    professors: [Professor]\n",
    "  }"
   ]
  },
  {
   "cell_type": "markdown",
   "metadata": {},
   "source": [
    "🔑 To create a query, we start by entering the name of the entry point we want to use. Because we want to work with `Class` objects, we use the `classes` entry point. We then list the fields we want included in our results. The `Class` object contains a `name` field, so we list the field `name` inside the brackets:"
   ]
  },
  {
   "cell_type": "code",
   "execution_count": null,
   "metadata": {
    "vscode": {
     "languageId": "graphql"
    }
   },
   "outputs": [],
   "source": [
    "query classes {\n",
    "    classes {\n",
    "      name\n",
    "    }\n",
    "  }"
   ]
  },
  {
   "cell_type": "markdown",
   "metadata": {},
   "source": [
    "🔑 To access the professor data in the same query, we start by adding `professor` to the list of fields. Then, to display data from the `Professor` object, we use a sub-query to list the names of the fields from the `Professor` object. The Apollo Sandbox makes this simple by providing a list of the names of the fields we can use:"
   ]
  },
  {
   "cell_type": "code",
   "execution_count": null,
   "metadata": {
    "vscode": {
     "languageId": "graphql"
    }
   },
   "outputs": [],
   "source": [
    "query classes {\n",
    "    classes {\n",
    "    name\n",
    "      professor {\n",
    "      name\n",
    "    }\n",
    "  }\n",
    "}"
   ]
  },
  {
   "cell_type": "markdown",
   "metadata": {},
   "source": [
    "GraphQL is organized using types and fields. The query type gives us the entry point for our query. The object type provides the fields that we can use to retrieve data. We start by listing the entry point for the data we want to use. Then, we add the fields we want included in our results."
   ]
  },
  {
   "cell_type": "markdown",
   "metadata": {},
   "source": [
    "### 2.1.3 Practice Activity: typeDefs and Resolvers\n",
    "🔑 For our queries to work, we must define our types to provide access to the data that we will need.\n",
    "\n",
    "🔑 Each object contains a collection of related fields that return a particular type of data. These fields determine what data can be accessed from the database and provide a shape to our data.\n",
    "\n",
    "The `Professor` object contains fields that will return data containing `name`, `_id`, `officeHours`, `officeLocation`, and `studentScore` data. These fields should match how the data in your database is structured:"
   ]
  },
  {
   "cell_type": "code",
   "execution_count": null,
   "metadata": {
    "vscode": {
     "languageId": "graphql"
    }
   },
   "outputs": [],
   "source": [
    "type Professor {\n",
    "    _id: ID\n",
    "    name: String\n",
    "    officeHours: String\n",
    "    officeLocation: String\n",
    "    studentScore: Float\n",
    "  }  "
   ]
  },
  {
   "cell_type": "markdown",
   "metadata": {},
   "source": [
    "🔑 We also use fields to define relationships between objects.\n",
    "\n",
    "The `Class` object needs to access the information about a single related `Professor` object. We use a queryable field to retrieve a single `Professor` object. When the data from the `Class` object is queried, the data from the corresponding `Professor` object will also be available:"
   ]
  },
  {
   "cell_type": "code",
   "execution_count": null,
   "metadata": {
    "vscode": {
     "languageId": "graphql"
    }
   },
   "outputs": [],
   "source": [
    "type Class {\n",
    "    _id: ID\n",
    "    name: String\n",
    "    building: String\n",
    "    creditHours: Int\n",
    "    professor: Professor\n",
    "  }"
   ]
  },
  {
   "cell_type": "markdown",
   "metadata": {},
   "source": [
    "Likewise, the `School` object needs access to all of the `Class` objects. We use a queryable field to retrieve an array of all the `Class` objects:"
   ]
  },
  {
   "cell_type": "code",
   "execution_count": null,
   "metadata": {
    "vscode": {
     "languageId": "graphql"
    }
   },
   "outputs": [],
   "source": [
    "type School {\n",
    "  _id: ID\n",
    "  name: String\n",
    "  location: String\n",
    "  studentCount: Int\n",
    "  classes: [Class]\n",
    "}"
   ]
  },
  {
   "cell_type": "markdown",
   "metadata": {},
   "source": [
    "🔑 To access our data, we must also define an entry point. These entry points control the data that the query has access to. The `professors` entry point is used to access the array of all `Professor` objects. Likewise, the `schools` entry point controls the access to the array of all the `School` objects:"
   ]
  },
  {
   "cell_type": "code",
   "execution_count": null,
   "metadata": {
    "vscode": {
     "languageId": "graphql"
    }
   },
   "outputs": [],
   "source": [
    "type Query {\n",
    "  schools: [School]\n",
    "  classes: [Class]\n",
    "  professors: [Professor]\n",
    "}"
   ]
  },
  {
   "cell_type": "markdown",
   "metadata": {},
   "source": [
    "To respond to a query, we must also write a function that determines how the data for each field is populated when we make a query.\n",
    "\n",
    "🔑 Because we are using Mongoose, we must import our models. These models create and read data from the MongoDB database:"
   ]
  },
  {
   "cell_type": "code",
   "execution_count": null,
   "metadata": {
    "vscode": {
     "languageId": "javascript"
    }
   },
   "outputs": [],
   "source": [
    "const { School, Class, Professor } = require('../models');"
   ]
  },
  {
   "cell_type": "markdown",
   "metadata": {},
   "source": [
    "🔑 When we write a query using the `professors` entry point, we call `.find()` on the `Professor` model that we imported to return all the data contained in the model instance, or document. This populates the fields:"
   ]
  },
  {
   "cell_type": "code",
   "execution_count": null,
   "metadata": {
    "vscode": {
     "languageId": "javascript"
    }
   },
   "outputs": [],
   "source": [
    "professors: async () => {\n",
    "    return await Professor.find({});\n",
    "  }"
   ]
  },
  {
   "cell_type": "markdown",
   "metadata": {},
   "source": [
    "We can also write a resolver that populates the data of a queryable field.\n",
    "\n",
    "🔑 The `.populate()` method allows us to reference documents in other MongoDB collections easily. We use `.populate()`, to fetch data for queryable field `professor`:"
   ]
  },
  {
   "cell_type": "code",
   "execution_count": null,
   "metadata": {
    "vscode": {
     "languageId": "javascript"
    }
   },
   "outputs": [],
   "source": [
    "classes: async () => {\n",
    "    return await Class.find({}).populate('professor');\n",
    "  }"
   ]
  },
  {
   "cell_type": "markdown",
   "metadata": {},
   "source": [
    "To query data with GraphQL, we need a schema that will define the shape of the data. The `Object type` contains fields that will determine what type of data will be returned. The `Query type` defines the entry points. Then, to make our queries work, we write `resolvers`, which are functions used to populate the data fields."
   ]
  },
  {
   "cell_type": "markdown",
   "metadata": {},
   "source": [
    "### 2.1.4 Practice Activity: Query Arguments\n",
    "🔑 We can also create more specific queries by passing arguments.\n",
    "\n",
    "🔑 Up until now, we have been using an entry point that returns an array of all the objects and returns one or more fields in each object. For example, we use the `classes` entry point to return the id of all the `Class` objects:"
   ]
  },
  {
   "cell_type": "code",
   "execution_count": null,
   "metadata": {
    "vscode": {
     "languageId": "graphql"
    }
   },
   "outputs": [],
   "source": [
    "query classIDs {\n",
    "    classes {\n",
    "      _id\n",
    "    }\n",
    "  }"
   ]
  },
  {
   "cell_type": "markdown",
   "metadata": {},
   "source": [
    "Often, though, we want to query a more specific result like a single class.\n",
    "- When we open up the schema tab, we see a new entry point has been defined in the query type. The `class` entry point provides access to a single `Class` object. Note that **single objects don't have brackets around them**!"
   ]
  },
  {
   "cell_type": "code",
   "execution_count": null,
   "metadata": {
    "vscode": {
     "languageId": "graphql"
    }
   },
   "outputs": [],
   "source": [
    "class(id: ID!): Class"
   ]
  },
  {
   "cell_type": "markdown",
   "metadata": {},
   "source": [
    "🔑 The class entry point also has an argument that allows us to define the id of the class object we want to fetch:"
   ]
  },
  {
   "cell_type": "code",
   "execution_count": null,
   "metadata": {
    "vscode": {
     "languageId": "graphql"
    }
   },
   "outputs": [],
   "source": [
    "class(id: ID!)"
   ]
  },
  {
   "cell_type": "markdown",
   "metadata": {},
   "source": [
    "The `ID!` is important here. The `ID` specifies the type of data that must be returned. The exclamation point `!` means that the data is required. Because we want our resolver function to search by ID for a particular class object, if that data is not provided, the search will not work."
   ]
  },
  {
   "cell_type": "markdown",
   "metadata": {},
   "source": [
    "🔑 To create a query, we start with the `class` endpoint and then specify the id of the specific `Class` object we want queried. (Note: the query will not yet return data):"
   ]
  },
  {
   "cell_type": "code",
   "execution_count": null,
   "metadata": {
    "vscode": {
     "languageId": "graphql"
    }
   },
   "outputs": [],
   "source": [
    "query classInline {\n",
    "  class(id: \"1000\") {\n",
    "    name\n",
    "  }\n",
    "}"
   ]
  },
  {
   "cell_type": "markdown",
   "metadata": {},
   "source": [
    "The data passed in the argument is then used by the resolver to retrieve the specific class. Because no resolver has been written, no data is returned. In the next activity, you will be building that resolver to make it work.\n",
    "\n",
    "  - 🔑 To make our queries more durable, we can also add a variable. Variables are identified by a dollar sign `$` and allow us to reuse the same query over and over:"
   ]
  },
  {
   "cell_type": "code",
   "execution_count": null,
   "metadata": {
    "vscode": {
     "languageId": "graphql"
    }
   },
   "outputs": [],
   "source": [
    "query classVariable($id: ID!) {\n",
    "  class(id: $id) {\n",
    "    name\n",
    "  }\n",
    "}"
   ]
  },
  {
   "cell_type": "markdown",
   "metadata": {},
   "source": [
    "We start by requiring our variable and setting the data type of the variable to the required type. For an id, it is the ID type. We also want to make sure that we only run the query if the variable is not null, so we add the exclamation point:"
   ]
  },
  {
   "cell_type": "code",
   "execution_count": null,
   "metadata": {
    "vscode": {
     "languageId": "graphql"
    }
   },
   "outputs": [],
   "source": [
    "query classVariable($id: ID!)"
   ]
  },
  {
   "cell_type": "markdown",
   "metadata": {},
   "source": [
    "We then use the `class` entry point, and assign the `id` a value as we did before. In this case, we set the value of `id` to be the value held in the variable.\n",
    "\n",
    "   - In our completed apps, the value for the variable is typically provided by the client. However, we can test the query using the Apollo Sandbox.\n",
    "\n",
    "   - We enter the variable name and pass a value -- in JSON -- in the Query Variables pane, to test the query. We use just the variable name, not the `$` identifier:"
   ]
  },
  {
   "cell_type": "code",
   "execution_count": null,
   "metadata": {
    "vscode": {
     "languageId": "graphql"
    }
   },
   "outputs": [],
   "source": [
    "{\n",
    "  \"id\": \"1000\"\n",
    "}"
   ]
  },
  {
   "cell_type": "markdown",
   "metadata": {},
   "source": [
    "  - This variable provides the information needed by the resolver to fetch the data. Our next task is to set up the resolver so our queries work.\n",
    "\n",
    "Reflect on the following question and answer pair before continuing on:\n",
    "\n",
    "  - Question: Why would we add an argument to our query?\n",
    "\n",
    "  - Answer: An argument allows us to write more specific queries. When we add an argument to our query, the argument is then passed to our resolver function. The resolver can then use that information to make a more targeted search."
   ]
  },
  {
   "cell_type": "markdown",
   "metadata": {},
   "source": [
    "### 2.1.5 Practice Activity: Mutations\n",
    "GraphQL does more than retrieve existing data. We can also use GraphQL to write data as well.\n",
    "\n",
    "  - 🔑 The mutation type is similar to the query type. However, instead of providing an entry point to read an object or objects, the mutation type provides an entry point to write an object or objects.\n",
    "\n",
    "  - 🔑 We create an entry point `addSchool` and set the object that it will write to to be a `School` object.\n",
    "\n",
    "  - 🔑 We also pass in arguments that define the fields that will be written. This information will be passed to the resolver."
   ]
  },
  {
   "cell_type": "code",
   "execution_count": null,
   "metadata": {
    "vscode": {
     "languageId": "graphql"
    }
   },
   "outputs": [],
   "source": [
    "type Mutation {\n",
    "  addSchool(name: String!, location: String!, studentCount: Int!): School\n",
    "}"
   ]
  },
  {
   "cell_type": "markdown",
   "metadata": {},
   "source": [
    "  - 🔑 We enter the arguments that we wanted passed in as a parameter in the same order as we defined the fields in the mutation type:"
   ]
  },
  {
   "cell_type": "code",
   "execution_count": null,
   "metadata": {
    "vscode": {
     "languageId": "javascript"
    }
   },
   "outputs": [],
   "source": [
    "addSchool: async (parent, { name, location, studentCount }) => { ... }"
   ]
  },
  {
   "cell_type": "markdown",
   "metadata": {},
   "source": [
    "  - 🔑 We call `create()` on the imported School model to write to our MongoDB database:"
   ]
  },
  {
   "cell_type": "code",
   "execution_count": null,
   "metadata": {
    "vscode": {
     "languageId": "javascript"
    }
   },
   "outputs": [],
   "source": [
    "return await School.create({ name, location, studentCount });"
   ]
  },
  {
   "cell_type": "markdown",
   "metadata": {},
   "source": [
    "A mutation is way to write data using GraphQL. We use the mutation type to define the entry point to the data to be written and a mutation resolver to provide the functionality to write the data to our database."
   ]
  },
  {
   "cell_type": "markdown",
   "metadata": {},
   "source": [
    "## 2.2 Lesson Plan: Integrating the Front-End\n",
    "### 2.2.1 Practice Activity: MERN Setup\n",
    "🔑 The React.js front end is located on a separate port from our GraphQL API.\n",
    "\n",
    "When we seed our database and open the app, we see a roster of friends and their endorsed skills.\n",
    "\n",
    "Each time this page loads, the client sends a request to the API. The returned data is then displayed on the page, allowing us to see the roster.\n",
    "\n",
    "🔑 When we look at the structure of our project directory, we see all the code needed to run the front end is contained in the client directory and all the code needed to run the back end is contained in the server directory.\n",
    "\n",
    "Because they are two separate apps, we need to use two separate terminals to start up each app independently and run them on their own ports.\n",
    "\n",
    "However, in a development environment, using two terminals can be cumbersome. So, to start up both apps simultaneously, we can add a third app located at the root. This will allow us to use just one set of commands -- and a single terminal -- to control both apps.\n",
    "\n",
    "🔑 The root-level `package.json` belongs to this third app. We install `concurrently` as a development dependency at the root level so that we can run multiple commands at the same time during development. The installed dependency appears in the `package.json`:"
   ]
  },
  {
   "cell_type": "code",
   "execution_count": null,
   "metadata": {
    "vscode": {
     "languageId": "json"
    }
   },
   "outputs": [],
   "source": [
    "\"devDependencies\": {\n",
    "  \"concurrently\": \"^8.2.0\"\n",
    "}"
   ]
  },
  {
   "cell_type": "markdown",
   "metadata": {},
   "source": [
    "🔑 We then add the scripts needed to start up both apps using a single terminal:"
   ]
  },
  {
   "cell_type": "code",
   "execution_count": null,
   "metadata": {
    "vscode": {
     "languageId": "json"
    }
   },
   "outputs": [],
   "source": [
    "\"scripts\": {\n",
    "    \"start\": \"node server/server.js\",\n",
    "    \"develop\": \"concurrently \\\"cd server && npm run watch\\\" \\\"cd client && npm run dev\\\"\",\n",
    "    \"install\": \"cd server && npm i && cd ../client && npm i\",\n",
    "    \"seed\": \"cd server && npm run seed\",\n",
    "    \"build\": \"cd client && npm run build\"\n",
    "  }  "
   ]
  },
  {
   "cell_type": "markdown",
   "metadata": {},
   "source": [
    "🔑 Please note that as of the `MERN-Setup` folder, we no longer manually add the `\"start\": \"vite\"` script to the client-level `package.json`, instead we fallback to using the default `\"dev\": \"vite\"` script, referenced here in the `concurrently` command."
   ]
  },
  {
   "cell_type": "markdown",
   "metadata": {},
   "source": [
    "While in development, we also need a way for our front end to send requests to our back end on a different port.\n",
    "\n",
    "To do this, we will use a proxy to handle requests and update them to include the URL location of our back end.\n",
    "\n",
    "We add a `proxy` field to the client's `vite.config.js` and add the URL of our back end as the value. Now, while in development, requests will be prefixed by `\"http://localhost:3001/graphql\"` to allow them to be received by the API."
   ]
  },
  {
   "cell_type": "code",
   "execution_count": null,
   "metadata": {
    "vscode": {
     "languageId": "graphql"
    }
   },
   "outputs": [],
   "source": [
    "proxy: {\n",
    "    '/graphql': {\n",
    "      target: 'http://localhost:3001',\n",
    "      changeOrigin: true,\n",
    "      secure: false,\n",
    "    },\n",
    "  },"
   ]
  },
  {
   "cell_type": "markdown",
   "metadata": {},
   "source": [
    "Question: How does our front end and back end communicate when running on separate ports?\n",
    "\n",
    "Answer: In the client directory's `vite.config.js` we add a proxy that identifies the port where the server is running. This allows the front end (the client) to send requests to the API (the server). We can then use the npm package `concurrently` to start up both the front end and back end during development, using `npm run develop`."
   ]
  },
  {
   "cell_type": "markdown",
   "metadata": {},
   "source": [
    "### 2.2.2 Practice Activity: useQuery\n",
    "Navigate to `useQuery` in your command line and `run npm install` and `npm run develop`.\n",
    "\n",
    "🔑 You can opt to run `npm run seed` to clean up your database if you wish, but it is not required."
   ]
  },
  {
   "cell_type": "markdown",
   "metadata": {},
   "source": [
    "To set up our React front end to be able to send requests, we need to use one more tool.\n",
    "- 🔑 Apollo Client is a library that allows us to handle data using the GraphQL on the front end.\n",
    "- 🔑 We first install `@apollo/client` and import the component and classes we need for setup:"
   ]
  },
  {
   "cell_type": "code",
   "execution_count": null,
   "metadata": {
    "vscode": {
     "languageId": "javascript"
    }
   },
   "outputs": [],
   "source": [
    "import { ApolloClient, InMemoryCache, ApolloProvider } from '@apollo/client';"
   ]
  },
  {
   "cell_type": "markdown",
   "metadata": {},
   "source": [
    "- 🔑 Next, we create a new instance of the imported `ApolloClient` class to implement the core client-side API and provide the uri of our GraphQL API so we can send requests.\n",
    "\n",
    "- 🔑 Apollo Client has an in-memory cache that stores the data from completed requests. To use Apollo's in-memory cache, we first import `InMemoryCache` in our `App.jsx` file:"
   ]
  },
  {
   "cell_type": "code",
   "execution_count": null,
   "metadata": {
    "vscode": {
     "languageId": "javascript"
    }
   },
   "outputs": [],
   "source": [
    "const client = new ApolloClient({\n",
    "    uri: '/graphql',\n",
    "    cache: new InMemoryCache()\n",
    "  });  "
   ]
  },
  {
   "cell_type": "markdown",
   "metadata": {},
   "source": [
    "🔑 To access the `ApolloClient` instance from anywhere in your component tree, we use the `ApolloProvider` component to wrap our React.js app:"
   ]
  },
  {
   "cell_type": "code",
   "execution_count": null,
   "metadata": {
    "vscode": {
     "languageId": "javascript"
    }
   },
   "outputs": [],
   "source": [
    "<ApolloProvider client={client}>\n",
    "  <div className=\"flex-column justify-flex-start min-100-vh\">\n",
    "    <Header />\n",
    "    <div className=\"container\">\n",
    "      <Home />\n",
    "    </div>\n",
    "    <Footer />\n",
    "  </div>\n",
    "</ApolloProvider>"
   ]
  },
  {
   "cell_type": "markdown",
   "metadata": {},
   "source": [
    "Now, our Apollo Client is set up and we are ready to write a query and start sending requests."
   ]
  },
  {
   "cell_type": "markdown",
   "metadata": {},
   "source": [
    "🔑 We write a query that uses the `profiles` entry point and return values for the `_id`, `name`, and `skills` fields. It is important that these values match a type defined in our GraphQL API schema exactly. Otherwise, the query will not work:"
   ]
  },
  {
   "cell_type": "code",
   "execution_count": null,
   "metadata": {
    "vscode": {
     "languageId": "graphql"
    }
   },
   "outputs": [],
   "source": [
    "query allProfiles {\n",
    "    profiles {\n",
    "      _id\n",
    "      name\n",
    "      skills\n",
    "    }\n",
    "  }"
   ]
  },
  {
   "cell_type": "markdown",
   "metadata": {},
   "source": [
    "🔑 For our query to execute, it must be contained in a `gql` function. We import the functionality from `apollo/client` at the top of the page:"
   ]
  },
  {
   "cell_type": "code",
   "execution_count": null,
   "metadata": {
    "vscode": {
     "languageId": "javascript"
    }
   },
   "outputs": [],
   "source": [
    "import { gql } from '@apollo/client';"
   ]
  },
  {
   "cell_type": "markdown",
   "metadata": {},
   "source": [
    "🔑 Next, we wrap our query in the `gql` function and add `export` so we can use our query in our component:"
   ]
  },
  {
   "cell_type": "code",
   "execution_count": null,
   "metadata": {
    "vscode": {
     "languageId": "javascript"
    }
   },
   "outputs": [],
   "source": [
    "export const QUERY_PROFILES = gql`\n",
    "  query allProfiles {\n",
    "    profiles {\n",
    "      _id\n",
    "      name\n",
    "      skills\n",
    "    }\n",
    "  }\n",
    "`;"
   ]
  },
  {
   "cell_type": "code",
   "execution_count": null,
   "metadata": {
    "vscode": {
     "languageId": "javascript"
    }
   },
   "outputs": [],
   "source": [
    "// We import the useQuery Hook from @apollo/client to return our data:\n",
    "import { useQuery } from '@apollo/client';\n",
    "// We also the query into the component where we want our data to be displayed:\n",
    "import { QUERY_PROFILES } from '../utils/queries';\n",
    "/**\n",
    " * We use the useQuery Hook to execute the query when the page renders. The returned object will contain both loading and data properties:\n",
    " */\n",
    "const { loading, data } = useQuery(QUERY_PROFILES);\n",
    "// We can then store the returned data in a variable so we can display the information on our page:\n",
    "const profiles = data?.profiles || [];\n",
    "/* ... */\n",
    "<ProfileList\n",
    "  profiles={profiles}\n",
    "  title=\"Here's the current roster of friends...\"\n",
    "/>"
   ]
  },
  {
   "cell_type": "markdown",
   "metadata": {},
   "source": [
    "  - Question: What is Apollo Client?\n",
    "  - Answer: Apollo Client is a powerful library that allows us to request data from our API and handles the whole request cycle.\n",
    "  - Question: What can we do with Apollo Client?\n",
    "  - Answer: Using Apollo Client, we can easily execute a query and use the returned data to populate our page in a few lines of code."
   ]
  },
  {
   "cell_type": "markdown",
   "metadata": {},
   "source": [
    "### 2.2.3 Practice Activity: Query Variables\n",
    "Navigate to Query-Variables in your command line and `run npm install` and `npm run develop`.\n",
    "- 🔑 You can opt to run `npm run seed` to clean up your database if you wish, but it is not required.\n",
    "- Open Query-Variables/client/src/utils/queries.js in your IDE and follow along:\n",
    "    - 🔑 We create a query that utilizes the `profile` entry point and retrieves values for the `_id`, `name`, and `skills` fields.\n",
    "    - To retrieve these values, we need to specify the profile to query. For this purpose, we pass a required `$profileId` variable, which must be of type `ID`.\n",
    "    - When the query is dispatched, the provided value of `$profileId` populates the `profileId` argument:"
   ]
  },
  {
   "cell_type": "code",
   "execution_count": null,
   "metadata": {
    "vscode": {
     "languageId": "graphql"
    }
   },
   "outputs": [],
   "source": [
    "query singleProfile($profileId: ID!) {\n",
    "    profile(profileId: $profileId) {\n",
    "      _id\n",
    "      name\n",
    "      skills\n",
    "    }\n",
    "  } "
   ]
  },
  {
   "cell_type": "markdown",
   "metadata": {},
   "source": [
    "- After we import the `useQuery` Hook from `@apollo/client` and the query we plan to use, we execute the query when the component renders. The returned object will contain both `loading` and `data` properties.\n",
    "- This time, as the query requires an argument to specify the profile from which to retrieve data, we provide a second argument to the useQuery hook. This argument is an object with a variables property.\n",
    "    - Inside the variables property, we pass the key-value pair that corresponds to the query structure defined in our queries.js utility, using the profileId obtained from the URL parameters."
   ]
  },
  {
   "cell_type": "code",
   "execution_count": null,
   "metadata": {
    "vscode": {
     "languageId": "javascript"
    }
   },
   "outputs": [],
   "source": [
    "const { loading, data } = useQuery(QUERY_SINGLE_PROFILE, {\n",
    "  variables: { profileId: profileId },\n",
    "});"
   ]
  },
  {
   "cell_type": "markdown",
   "metadata": {},
   "source": [
    "- 🔑 Within the type Query definition, we specify the profile entry point.\n",
    "    - It accepts a required argument profileId, which is of type ID.\n",
    "    - In response to this request, we expect to receive a single object of type Profile."
   ]
  },
  {
   "cell_type": "code",
   "execution_count": null,
   "metadata": {
    "vscode": {
     "languageId": "graphql"
    }
   },
   "outputs": [],
   "source": [
    "type Query {\n",
    "    ...\n",
    "    profile(profileId: ID!): Profile\n",
    "  }"
   ]
  },
  {
   "cell_type": "markdown",
   "metadata": {},
   "source": [
    "- 🔑 Within the resolvers Query object, we define a resolver for the matching profile entry point.\n",
    "    - This resolver utilizes the second parameter value to access the profileId value sent from the client.\n",
    "    - The value returned by this resolver is sent back as the API response to the client."
   ]
  },
  {
   "cell_type": "code",
   "execution_count": null,
   "metadata": {
    "vscode": {
     "languageId": "graphql"
    }
   },
   "outputs": [],
   "source": [
    "Query: {\n",
    "  ...\n",
    "  profile: async (parent, { profileId }) => {\n",
    "    return Profile.findOne({ _id: profileId });\n",
    "  },\n",
    "},"
   ]
  },
  {
   "cell_type": "markdown",
   "metadata": {},
   "source": [
    "Question: How does the `useQuery` function in Apollo Client allow you to pass variables for queries that require data from the front end to be properly retrieved?\n",
    "\n",
    "Answer: The `useQuery` function in Apollo Client allows you to pass variables as a second argument. This enables queries that require data from the front end to be properly retrieved. By providing dynamic values or user input as variables, the query can adapt and return the relevant data based on these variables."
   ]
  },
  {
   "cell_type": "markdown",
   "metadata": {},
   "source": [
    "### 2.2.4 Practice Activity: useMutation\n",
    "Setting up a mutation is a lot like setting up a query. First, we set up our front end to send requests using Apollo Client.\n",
    "\n",
    "🔑 Then, we write our mutation, making sure our entry point and fields match definitions in our schema exactly and that our variable definition is set. We also define a variable `$name`. This variable will be used to pass back data when our mutation executes:"
   ]
  },
  {
   "cell_type": "code",
   "execution_count": null,
   "metadata": {
    "vscode": {
     "languageId": "graphql"
    }
   },
   "outputs": [],
   "source": [
    "mutation addProfile($name: String!) {\n",
    "  addProfile(name: $name) {\n",
    "    _id\n",
    "    name\n",
    "    skills\n",
    "  }\n",
    "}"
   ]
  },
  {
   "cell_type": "markdown",
   "metadata": {},
   "source": [
    "Finally, we wrap our completed mutation in a `gql` function and export it."
   ]
  },
  {
   "cell_type": "code",
   "execution_count": null,
   "metadata": {
    "vscode": {
     "languageId": "javascript"
    }
   },
   "outputs": [],
   "source": [
    "export const ADD_PROFILE = gql`\n",
    "  mutation addProfile($name: String!) {\n",
    "    addProfile(name: $name) {\n",
    "      _id\n",
    "      name\n",
    "      skills\n",
    "    }\n",
    "  }`;"
   ]
  },
  {
   "cell_type": "markdown",
   "metadata": {},
   "source": [
    "🔑 In the component where we want to execute the mutation, we import the mutation we created as well as the `useMutation` Hook:"
   ]
  },
  {
   "cell_type": "code",
   "execution_count": null,
   "metadata": {
    "vscode": {
     "languageId": "javascript"
    }
   },
   "outputs": [],
   "source": [
    "import { useMutation } from '@apollo/client';\n",
    "import { ADD_PROFILE } from '../../utils/mutations';"
   ]
  },
  {
   "cell_type": "markdown",
   "metadata": {},
   "source": [
    "🔑 Next, we apply the `useMutation` Hook to return a mutation function that we can use to trigger the mutation as needed:"
   ]
  },
  {
   "cell_type": "code",
   "execution_count": null,
   "metadata": {
    "vscode": {
     "languageId": "javascript"
    }
   },
   "outputs": [],
   "source": [
    "const [addProfile, { error }] = useMutation(ADD_PROFILE);"
   ]
  },
  {
   "cell_type": "markdown",
   "metadata": {},
   "source": [
    "Because we want our mutation function to execute when we submit the form, we place it inside the `handleFormSubmit` function:"
   ]
  },
  {
   "cell_type": "code",
   "execution_count": null,
   "metadata": {
    "vscode": {
     "languageId": "javascript"
    }
   },
   "outputs": [],
   "source": [
    "const { data } = await addProfile({\n",
    "    variables: { name },\n",
    "  });\n",
    "\n",
    "// 🔑 We then assign a value to our mutation variable that represents the name entered by the user:\n",
    "variables: { name }\n",
    "\n",
    "// We wrap our mutation function in a try...catch and add error handling. This will handle any errors gracefully if our request fails:\n",
    "try {\n",
    "  const { data } = await addProfile({\n",
    "    variables: { name },\n",
    "  });\n",
    "\n",
    "} catch (err) {\n",
    "  console.error(err);\n",
    "}\n",
    "/**\n",
    " * 🔑 Finally, we add a refresh to allow our page to reload after the mutation is executed. This will stop any cache issues and allow our new profile to be displayed:\n",
    " */\n",
    "window.location.reload();"
   ]
  },
  {
   "cell_type": "markdown",
   "metadata": {},
   "source": [
    "- Question: When are mutations executed using `useMutation()`?\n",
    "\n",
    "- Answer: Mutations are not immediately executed when the page is rendered. Instead, the `useMutation()` Hook returns a mutation function that can be called inside another function. This makes it easy to attach a mutation to an event, like a form submission."
   ]
  },
  {
   "cell_type": "markdown",
   "metadata": {},
   "source": [
    "### 2.2.5 Practice Activity: MERN Review\n",
    "- 🔑 We are using two separate apps in development of this MERN application. The front end is contained in the `client` directory and the back end is contained in the `server` directory.\n",
    "\n",
    "- Because they are two separate apps, we need to use two separate terminals to start up each app independently and run them on their own ports.\n",
    "\n",
    "- 🔑 We install `concurrently` as a development dependency at the root level so that we can run multiple commands at the same time during development.\n",
    "\n",
    "- 🔑 We then add the scripts needed to start up both apps using a single terminal:"
   ]
  },
  {
   "cell_type": "code",
   "execution_count": null,
   "metadata": {
    "vscode": {
     "languageId": "json"
    }
   },
   "outputs": [],
   "source": [
    "\"scripts\": {\n",
    "    \"start\": \"node server/server.js\",\n",
    "    \"develop\": \"concurrently \\\"cd server && npm run watch\\\" \\\"cd client && npm run dev\\\"\",\n",
    "    \"install\": \"cd server && npm i && cd ../client && npm i\",\n",
    "    \"seed\": \"cd server && npm run seed\",\n",
    "    \"build\": \"cd client && npm run build\"\n",
    "  }  "
   ]
  },
  {
   "cell_type": "markdown",
   "metadata": {},
   "source": [
    "We add a `proxy` field to the client's `vite.config.js` and add the URL of our back end as the value. Now, while in development, requests will be prefixed by `\"http://localhost:3001/graphql\"` to allow them to be received by the API."
   ]
  },
  {
   "cell_type": "code",
   "execution_count": null,
   "metadata": {
    "vscode": {
     "languageId": "graphql"
    }
   },
   "outputs": [],
   "source": [
    "proxy: {\n",
    "    '/graphql': {\n",
    "      target: 'http://localhost:3001',\n",
    "      changeOrigin: true,\n",
    "      secure: false,\n",
    "    },\n",
    "  },"
   ]
  },
  {
   "cell_type": "markdown",
   "metadata": {},
   "source": [
    "🔑 Apollo Client is a library that allows us to handle data using the GraphQL on the front end.\n",
    "\n",
    "🔑 We first install `@apollo/client` and import the component and classes we need for setup:"
   ]
  },
  {
   "cell_type": "code",
   "execution_count": null,
   "metadata": {
    "vscode": {
     "languageId": "javascript"
    }
   },
   "outputs": [],
   "source": [
    "import { ApolloClient, InMemoryCache, ApolloProvider } from '@apollo/client';"
   ]
  },
  {
   "cell_type": "markdown",
   "metadata": {},
   "source": [
    "🔑 Next, we create a new instance of the imported `ApolloClient` class to implement the core client-side API and provide the uri of our GraphQL API so we can send requests. We also create a new instance of `InMemoryCache` to enable caching:"
   ]
  },
  {
   "cell_type": "code",
   "execution_count": null,
   "metadata": {
    "vscode": {
     "languageId": "javascript"
    }
   },
   "outputs": [],
   "source": [
    "const client = new ApolloClient({\n",
    "    uri: '/graphql',\n",
    "    cache: new InMemoryCache()\n",
    "  });"
   ]
  },
  {
   "cell_type": "markdown",
   "metadata": {},
   "source": [
    "🔑 To access the `ApolloClient` instance from anywhere in your component tree, we use the `ApolloProvider` component to wrap our React.js app:"
   ]
  },
  {
   "cell_type": "code",
   "execution_count": null,
   "metadata": {
    "vscode": {
     "languageId": "javascript"
    }
   },
   "outputs": [],
   "source": [
    "<ApolloProvider client={client}>\n",
    "  <div className=\"flex-column justify-flex-start min-100-vh\">\n",
    "    <Header />\n",
    "    <div className=\"container\">\n",
    "      <Home />\n",
    "    </div>\n",
    "    <Footer />\n",
    "  </div>\n",
    "</ApolloProvider>"
   ]
  },
  {
   "cell_type": "markdown",
   "metadata": {},
   "source": [
    "React Router is a library that allows us to easily add navigation and dynamic routing to our apps.\n",
    "\n",
    "🔑 To use React Router, we start by importing the `RouterProvider` component and `createBrowserRouter` helper function from `react-router-dom`:"
   ]
  },
  {
   "cell_type": "code",
   "execution_count": null,
   "metadata": {
    "vscode": {
     "languageId": "javascript"
    }
   },
   "outputs": [],
   "source": [
    "import { createBrowserRouter, RouterProvider } from 'react-router-dom'"
   ]
  },
  {
   "cell_type": "markdown",
   "metadata": {},
   "source": [
    "🔑 To create routes, we wrap an array of route definitions in the `createBrowserRouter` method. Route objects define the page we want to access and identify the path. We must start by defining the root component, in this case our `App` component will always render, and the content within will render conditionally based on the URLs we define next."
   ]
  },
  {
   "cell_type": "code",
   "execution_count": null,
   "metadata": {
    "vscode": {
     "languageId": "javascript"
    }
   },
   "outputs": [],
   "source": [
    "const router = createBrowserRouter([\n",
    "    {\n",
    "      path: '/',\n",
    "      element: <App />,\n",
    "      errorElement: <Error />,\n",
    "      children: [\n",
    "        ...\n",
    "      ],\n",
    "    },\n",
    "  ]);"
   ]
  },
  {
   "cell_type": "markdown",
   "metadata": {},
   "source": [
    "🔑 Note that within a route object we have a `path` as well as an `element`. The `path` signifies the URL and the `element` signifies which component we want the user to see when they hit that path! To have our `Home` component render at the root route, we set it as the index component for our website. Now, when we navigate to `http://localhost:3000/`, the `Home` page will display."
   ]
  },
  {
   "cell_type": "code",
   "execution_count": null,
   "metadata": {
    "vscode": {
     "languageId": "javascript"
    }
   },
   "outputs": [],
   "source": [
    "{\n",
    "    index: true,\n",
    "    element: <Home />,\n",
    "  },"
   ]
  },
  {
   "cell_type": "markdown",
   "metadata": {},
   "source": [
    "🔑 To create a dynamic route, we simply add a parameter `:profileId` to our path. For the `Profile` page, the URL will change depending on which tech friend's information is being displayed. The profile pages will now be available at `http://localhost:3000/profiles/<profileId>`:"
   ]
  },
  {
   "cell_type": "code",
   "execution_count": null,
   "metadata": {
    "vscode": {
     "languageId": "javascript"
    }
   },
   "outputs": [],
   "source": [
    "{\n",
    "    path: '/thoughts/:profileId',\n",
    "    element: <Profile />,\n",
    "  },"
   ]
  },
  {
   "cell_type": "markdown",
   "metadata": {},
   "source": [
    "🔑 Next, we render our `RouterProvider` component. This allows us to keep track of the location and easily navigate between pages:"
   ]
  },
  {
   "cell_type": "code",
   "execution_count": null,
   "metadata": {
    "vscode": {
     "languageId": "javascript"
    }
   },
   "outputs": [],
   "source": [
    "ReactDOM.createRoot(document.getElementById('root')).render(\n",
    "    <RouterProvider router={router} />\n",
    "  )"
   ]
  },
  {
   "cell_type": "markdown",
   "metadata": {},
   "source": [
    "🔑 Links are a React Router component that allow us to navigate around our app using a hyperlink.\n",
    "\n",
    "To use a link, we first have to import the component:"
   ]
  },
  {
   "cell_type": "code",
   "execution_count": null,
   "metadata": {
    "vscode": {
     "languageId": "javascript"
    }
   },
   "outputs": [],
   "source": [
    "import { Link } from 'react-router-dom';"
   ]
  },
  {
   "cell_type": "markdown",
   "metadata": {},
   "source": [
    "🔑 Then, we create the link inside the `.map()` function and give it a path to an existing route using `to`. We use `${profile._id}` to assign the route's parameter to the id of our current tech friend:"
   ]
  },
  {
   "cell_type": "code",
   "execution_count": null,
   "metadata": {
    "vscode": {
     "languageId": "javascript"
    }
   },
   "outputs": [],
   "source": [
    "<Link\n",
    "  className=\"btn btn-block btn-squared btn-light text-dark\"\n",
    "    to={`/profiles/${profile._id}`}\n",
    " >\n",
    "   View and endorse their skills.\n",
    "</Link>"
   ]
  },
  {
   "cell_type": "markdown",
   "metadata": {},
   "source": [
    "When the user clicks on the link inside our app or enters the page's URL in the browser, we want only the associated tech friend's information to display on the page.\n",
    "\n",
    "🔑 To do this, we first grab the needed profile id from the URL's parameter using the `useParams()` Hook:"
   ]
  },
  {
   "cell_type": "code",
   "execution_count": null,
   "metadata": {
    "vscode": {
     "languageId": "javascript"
    }
   },
   "outputs": [],
   "source": [
    "\n",
    "const { profileId } = useParams();"
   ]
  },
  {
   "cell_type": "markdown",
   "metadata": {},
   "source": [
    "\n",
    "🔑 Then, we use that profile id to query our data and return the associated tech friend's information:"
   ]
  },
  {
   "cell_type": "code",
   "execution_count": null,
   "metadata": {
    "vscode": {
     "languageId": "javascript"
    }
   },
   "outputs": [],
   "source": [
    "const { loading, data } = useQuery(QUERY_SINGLE_PROFILE, {\n",
    "    variables: { profileId: profileId },\n",
    "  });  "
   ]
  },
  {
   "cell_type": "markdown",
   "metadata": {},
   "source": [
    "🔑 We can then use the returned data to populate the page:"
   ]
  },
  {
   "cell_type": "code",
   "execution_count": null,
   "metadata": {
    "vscode": {
     "languageId": "javascript"
    }
   },
   "outputs": [],
   "source": [
    "<h2 className=\"card-header\">\n",
    "  {profile.name}'s friends have endorsed these skills...\n",
    "</h2>"
   ]
  },
  {
   "cell_type": "markdown",
   "metadata": {},
   "source": [
    "Question: How do we use React Router to add navigation to our site?\n",
    "\n",
    "Answer: React Router is a library that allows us to easily create a route for each page for our app. The route can then be used by either entering the path into a browser window or internally, when a user clicks on a link."
   ]
  },
  {
   "cell_type": "markdown",
   "metadata": {},
   "source": [
    "## 2.3 Lesson Plan: JSON Web Tokens (JWT)\n",
    "- Create and verify a JSON Web Token to log in the user.\n",
    "- Store, check expiration of, and pass JSON Web Tokens to an Apollo Client.\n",
    "- Implement server-side authentication in GraphQL API.\n",
    "- Explain a practical use case for implementing GitHub Actions."
   ]
  },
  {
   "cell_type": "markdown",
   "metadata": {},
   "source": [
    "### 2.3.1 Practice Activity: Sign JWT\n",
    "🔑 To generate a token in our apps, we start by adding a `auth.js` file to our server's `utils` directory and requiring the `jsonwebtoken` library to provide the functionality to check the validity of the token using a `secret` and `expiration`:"
   ]
  },
  {
   "cell_type": "code",
   "execution_count": null,
   "metadata": {
    "vscode": {
     "languageId": "javascript"
    }
   },
   "outputs": [],
   "source": [
    "const jwt = require('jsonwebtoken');"
   ]
  },
  {
   "cell_type": "markdown",
   "metadata": {},
   "source": [
    "🔑 We then assign values for both a `secret` and `expiration`. The `secret` is a private key that signs the token and enables the server to verify whether the token is valid. The `expiration` is the length of time the token remains valid before expiring:"
   ]
  },
  {
   "cell_type": "code",
   "execution_count": null,
   "metadata": {
    "vscode": {
     "languageId": "javascript"
    }
   },
   "outputs": [],
   "source": [
    "const secret = 'mysecretsshhhhh';\n",
    "const expiration = '2h';"
   ]
  },
  {
   "cell_type": "markdown",
   "metadata": {},
   "source": [
    "🔑 Next, we add a `signToken()` function to combine the payload, secret, and string and return our token as a string:"
   ]
  },
  {
   "cell_type": "code",
   "execution_count": null,
   "metadata": {
    "vscode": {
     "languageId": "javascript"
    }
   },
   "outputs": [],
   "source": [
    "signToken: function ({ email, name, _id }) {\n",
    "    const payload = { email, name, _id };\n",
    "    return jwt.sign({ data: payload }, secret, { expiresIn: expiration });\n",
    "  },"
   ]
  },
  {
   "cell_type": "markdown",
   "metadata": {},
   "source": [
    "🔑 We call the `signToken()` function in the resolvers where we want to transmit data securely to generate a signed token:"
   ]
  },
  {
   "cell_type": "code",
   "execution_count": null,
   "metadata": {
    "vscode": {
     "languageId": "javascript"
    }
   },
   "outputs": [],
   "source": [
    "addProfile: async (parent, { name, email, password }) => {\n",
    "    const profile = await Profile.create({ name, email, password });\n",
    "    const token = signToken(profile);\n",
    "    return { token, profile };\n",
    "  }  "
   ]
  },
  {
   "cell_type": "markdown",
   "metadata": {},
   "source": [
    "We also need a way to handle a password in the resolvers. We start by importing `bcrypt`, a library that is used to safely store a password in the `Profile` model:"
   ]
  },
  {
   "cell_type": "code",
   "execution_count": null,
   "metadata": {
    "vscode": {
     "languageId": "javascript"
    }
   },
   "outputs": [],
   "source": [
    "const bcrypt = require('bcrypt');"
   ]
  },
  {
   "cell_type": "markdown",
   "metadata": {},
   "source": [
    "Next, we add a save hook to encrypt a password when a new profile is created:"
   ]
  },
  {
   "cell_type": "code",
   "execution_count": null,
   "metadata": {
    "vscode": {
     "languageId": "javascript"
    }
   },
   "outputs": [],
   "source": [
    "profileSchema.pre('save', async function (next) {\n",
    "    if (this.isNew || this.isModified('password')) {\n",
    "      const saltRounds = 10;\n",
    "      this.password = await bcrypt.hash(this.password, saltRounds);\n",
    "    }\n",
    "    next();\n",
    "  });"
   ]
  },
  {
   "cell_type": "markdown",
   "metadata": {},
   "source": [
    "We also add an `isCorrectPassword()` method that checks to determine if the correct password was provided by the user:"
   ]
  },
  {
   "cell_type": "code",
   "execution_count": null,
   "metadata": {
    "vscode": {
     "languageId": "javascript"
    }
   },
   "outputs": [],
   "source": [
    "profileSchema.methods.isCorrectPassword = async function (password) {\n",
    "    return bcrypt.compare(password, this.password);\n",
    "  }"
   ]
  },
  {
   "cell_type": "markdown",
   "metadata": {},
   "source": [
    "We then export the model so the functionality can be used in our resolvers to handle our passwords.\n",
    "\n",
    "Now, that we have a way to generate a token and handle a password, we also need to add definitions to our existing GraphQL schema to handle our token.\n",
    "\n",
    "🔑 When we open the `schema` tab, we see that there is an object type `auth`, that contains `token` and a profile field. This defines the `Auth` data we will have access to:"
   ]
  },
  {
   "cell_type": "code",
   "execution_count": null,
   "metadata": {
    "vscode": {
     "languageId": "graphql"
    }
   },
   "outputs": [],
   "source": [
    "type Auth {\n",
    "    token: ID!\n",
    "    profile: Profile\n",
    "  }"
   ]
  },
  {
   "cell_type": "markdown",
   "metadata": {},
   "source": [
    "🔑 We can access this `auth` object through two mutation entry points: `login` and `addProfile`. Let's use the `addProfile` entry point to add a new profile to see a generated token.\n",
    "\n",
    "We write a mutation in the editor that takes in three values: name, email, and password:"
   ]
  },
  {
   "cell_type": "code",
   "execution_count": null,
   "metadata": {
    "vscode": {
     "languageId": "graphql"
    }
   },
   "outputs": [],
   "source": [
    "mutation addProfile($name: String!, $email: String!, $password: String!) {\n",
    "  addProfile(name: $name, email: $email, password: $password) {\n",
    "    token\n",
    "    profile {\n",
    "      _id\n",
    "    }\n",
    "  }\n",
    "}"
   ]
  },
  {
   "cell_type": "markdown",
   "metadata": {},
   "source": [
    "We then assign values to our variables in the `Query Variables` editor to replicate the user-provided data and test if our mutation works:"
   ]
  },
  {
   "cell_type": "code",
   "execution_count": null,
   "metadata": {
    "vscode": {
     "languageId": "json"
    }
   },
   "outputs": [],
   "source": [
    "{\n",
    "  \"name\": \"sample\",\n",
    "  \"email\": \"me@me.com\",\n",
    "  \"password\": \"password\"\n",
    "}"
   ]
  },
  {
   "cell_type": "markdown",
   "metadata": {},
   "source": [
    "When we click the play button, we see that a signed token is stored in the `token` field.\n",
    "\n",
    "\n",
    "\n",
    "🔑 When we copy the generated token into the decoder, we see that the payload contains the `name` and `email` that we added, an `iat` that describes when the data was created, and the token's expiration:"
   ]
  },
  {
   "cell_type": "code",
   "execution_count": null,
   "metadata": {
    "vscode": {
     "languageId": "json"
    }
   },
   "outputs": [],
   "source": [
    "{\n",
    "  \"data\": {\n",
    "  \"email\": \"me@me.com\",\n",
    "  \"name\": \"sample\",\n",
    "  \"_id\": \"601a054d40fbcbf267a3f253\"\n",
    "},\n",
    "  \"iat\": 1612318029,\n",
    "  \"exp\": 1612325229\n",
    "}"
   ]
  },
  {
   "cell_type": "markdown",
   "metadata": {},
   "source": [
    "The process of generating a signed token takes place in the resolver.\n",
    "\n",
    "Reflect on the following question and answer pairs before continuing on:\n",
    "Question: How do we use the `signToken()` function to generate a signed token?\n",
    "\n",
    "Answer: The `signToken()` function expects an object that contains data and will add that object's properties to a token. The `secret` and `expiration` are also added."
   ]
  },
  {
   "cell_type": "markdown",
   "metadata": {},
   "source": [
    "### 2.3.2 Practice Activity: Decode JWT\n",
    "🔑 When a token is returned to our front end after a user is successfully logged in, it must be stored and decoded. We import the `jwt-decode` library to decode the data a token holds as well as when it expires:"
   ]
  },
  {
   "cell_type": "code",
   "execution_count": null,
   "metadata": {
    "vscode": {
     "languageId": "javascript"
    }
   },
   "outputs": [],
   "source": [
    "// auth.js\n",
    "\n",
    "import decode from 'jwt-decode';\n",
    "\n",
    "/**\n",
    " * Next, we create a new class AuthService and add the functionality needed to store our token so we can easily retrieve it and include it with a request to the server:\n",
    " */\n",
    "class AuthService {}\n",
    "\n",
    "/**\n",
    " * 🔑 Inside this class, we use the getToken method to retrieve an existing token from local storage, if it exists:\n",
    " */\n",
    "getToken() {\n",
    "    return localStorage.getItem('id_token');\n",
    "  }\n",
    "\n",
    "  /**\n",
    "   * 🔑 We then call the getToken method in the loggedIn method to check if a token has been returned. If a user has been successfully logged in, a token will be returned from local storage. If not, no user is logged in:\n",
    "   */\n",
    "  loggedIn() {\n",
    "    const token = this.getToken();\n",
    "    return token ? true : false;\n",
    "  }\n",
    "\n",
    "  /**\n",
    "   * 🔑 When a user logs in, we store the token in local storage. Then, when a user logs out, we remove the token. This makes sure our token is only held in storage while a user remains logged in:\n",
    "   */\n",
    "  login(idToken) {\n",
    "    localStorage.setItem('id_token', idToken);\n",
    "    window.location.assign('/');\n",
    "  }\n",
    "  \n",
    "  logout() {\n",
    "    localStorage.removeItem('id_token');\n",
    "    window.location.reload();\n",
    "  }\n",
    "\n",
    "  /**\n",
    "   * 🔑 We also add a getProfile method that decodes the retrieved token and returns a string so the expiration date and the data in the token can be used:\n",
    "   */\n",
    "  getProfile() {\n",
    "    return decode(this.getToken());\n",
    "  }\n",
    "\n",
    "  /**\n",
    "   * We then export our AuthService so we can use this functionality in our Login page:\n",
    "   */\n",
    "  export default new AuthService()"
   ]
  },
  {
   "cell_type": "code",
   "execution_count": null,
   "metadata": {
    "vscode": {
     "languageId": "javascript"
    }
   },
   "outputs": [],
   "source": [
    "// App.jsx\n",
    "/**\n",
    " * 🔑 To authenticate requests sent to the back end while a user is logged in, we must add a header containing the token in our requests. We use the setContext() function from Apollo Client to do this:\n",
    " */\n",
    "import { setContext } from '@apollo/client/link/context';\n",
    "\n",
    "/**\n",
    " * 🔑 We then use the setContext() method to retrieve an existing token from local storage and attach the JWT token to every request sent from the client. The back end will then use this information to verify the request:\n",
    " */\n",
    "const authLink = setContext((_, { headers }) => {\n",
    "    const token = localStorage.getItem('id_token');\n",
    "    return {\n",
    "      headers: {\n",
    "      ...headers,\n",
    "      authorization: token ? `Bearer ${token}` : '',\n",
    "    },\n",
    "  }});"
   ]
  },
  {
   "cell_type": "code",
   "execution_count": null,
   "metadata": {
    "vscode": {
     "languageId": "javascript"
    }
   },
   "outputs": [],
   "source": [
    "// Login.jsx\n",
    "/**\n",
    " * Using the functionality we just added, we execute the login mutation and receive a token in return. This token is then immediately stored using our AuthService functionality:\n",
    " */\n",
    "const handleFormSubmit = async (event) => {\n",
    "    event.preventDefault();\n",
    "    console.log(formState);\n",
    "    try {\n",
    "      const { data } = await login({\n",
    "        variables: { ...formState },\n",
    "      });\n",
    "  \n",
    "      Auth.login(data.login.token);\n",
    "        } catch (e) {\n",
    "          console.error(e);\n",
    "        }\n",
    "    };"
   ]
  },
  {
   "cell_type": "markdown",
   "metadata": {},
   "source": [
    "- Reflect on the following question and answer pairs before continuing on:\n",
    "    - Question What library do we use to decode the information in our token on the front end?\n",
    "    - Answer: We use the `jwt-decode` library to check what information a token holds and when it expires.\n",
    "    - Question: How do we attach a token as a header to our front-end requests?\n",
    "    - Answer: We use the `setContext()` method to retrieve an existing token, if it exists, and attach it to our request."
   ]
  },
  {
   "cell_type": "markdown",
   "metadata": {},
   "source": [
    "### 2.3.3 Practice Activity: Resolver Context\n",
    "While we can decode our token in the front end and attach it to a request as header, we are still missing the key functionality needed to verify our token and decode it before it reaches our resolver. To do that, we will have to return to our back-end code."
   ]
  },
  {
   "cell_type": "code",
   "execution_count": null,
   "metadata": {
    "vscode": {
     "languageId": "javascript"
    }
   },
   "outputs": [],
   "source": [
    "// auth.js\n",
    "// We import the jsonwebtoken library in our server's auth.js file:\n",
    "const jwt = require('jsonwebtoken');\n",
    "\n",
    "/**\n",
    " * 🔑 Then, we add a authMiddleware function to check if there's a token with the request and, if it exists, verify and decode the token.\n",
    " * First, we describe the way our tokens can be received:\n",
    " */\n",
    "let token = req.body.token || req.query.token || req.headers.authorization\n",
    "\n",
    "/**\n",
    " * 🔑 Next, we use the jsonwebtoken library's verify() method to check if our token is valid and return the payload data:\n",
    " */\n",
    "const { data } = jwt.verify(token, secret, { maxAge: expiration });\n",
    "\n",
    "/**\n",
    " * We then return the req object and supply the request -- and the needed data -- to the resolver function:\n",
    " */\n",
    "return req;"
   ]
  },
  {
   "cell_type": "code",
   "execution_count": null,
   "metadata": {
    "vscode": {
     "languageId": "javascript"
    }
   },
   "outputs": [],
   "source": [
    "// server.js\n",
    "/**\n",
    " * 🔑 We import the authMiddleware function from our auth.js file to use it in the context of our ApolloServer instance:\n",
    " */\n",
    "const { authMiddleware } = require('./utils/auth');\n",
    "\n",
    "/**\n",
    " * Previously, to integrate our ApolloServer with our Express application, we passed along our Apollo server as part of the expressMiddleware. Now, we add a context property and set the value to authMiddleware. This allows the incoming requests to be verified and the data returned from the authMiddleware() function to be made available to our resolvers:\n",
    " */\n",
    "app.use('/graphql', expressMiddleware(server, {\n",
    "    context: authMiddleware\n",
    "  }));"
   ]
  },
  {
   "cell_type": "markdown",
   "metadata": {},
   "source": [
    "To access the data in the `context`, we add a context parameter to our query and mutation resolvers. This will pass in the data from our token so that it can be used by the resolvers. Because parameters in resolvers are positional, the `context` parameter must always be in the third place:"
   ]
  },
  {
   "cell_type": "code",
   "execution_count": null,
   "metadata": {
    "vscode": {
     "languageId": "javascript"
    }
   },
   "outputs": [],
   "source": [
    "// resolvers.js\n",
    "me: async (parent, args, context) => {\n",
    "    if (context.user) {\n",
    "      return Profile.findOne({ _id: context.user._id });\n",
    "    }\n",
    "    throw AuthenticationError;\n",
    "  },"
   ]
  },
  {
   "cell_type": "markdown",
   "metadata": {},
   "source": [
    "Reflect on the following question and answer pairs before continuing on:\n",
    "\n",
    "Question: How do we verify and decode a token before it reaches the resolver?\n",
    "\n",
    "Answer: We add a `context` option to our Apollo Server configuration and give it the value of `authMiddleware`. Then, in our `authMiddleware` method, we add the functionality needed to verify and decode our token. This will allow us to intercept any request to the server and check if there's a valid JWT before the request gets to the resolver."
   ]
  },
  {
   "cell_type": "markdown",
   "metadata": {},
   "source": [
    "### 2.3.4 Practice Activity: GitHub Actions\n",
    "**GitHub Actions** are automated tasks or workflows that run when certain events are triggered, like pull requests. At their core, they are a series of commands that allow us to automate things like deployment, testing, and linting.\n",
    "\n",
    "Using this guide, you will create a GitHub Action that automatically runs linting checks on any pull request made to the `main` or `develop` branches. Actions like this can especially benefit collaborative efforts like group projects."
   ]
  },
  {
   "cell_type": "code",
   "execution_count": null,
   "metadata": {
    "vscode": {
     "languageId": "shellscript"
    }
   },
   "outputs": [],
   "source": [
    "# First we create a boilerplate React app:\n",
    "npm create vite@latest"
   ]
  },
  {
   "cell_type": "markdown",
   "metadata": {},
   "source": [
    "For this practice activity, name your application gh-actions-demo.\n",
    "\n",
    "🔑 We set up the GitHub Action locally and then push it to GitHub. As a result, we still need to install dependencies locally to ensure that they are added to the `package.json` file. To do this, we change into the `gh-actions-demo` folder and run the following command:"
   ]
  },
  {
   "cell_type": "code",
   "execution_count": null,
   "metadata": {
    "vscode": {
     "languageId": "shellscript"
    }
   },
   "outputs": [],
   "source": [
    "npm i eslint --save-dev"
   ]
  },
  {
   "cell_type": "markdown",
   "metadata": {},
   "source": [
    "With `eslint` installed as a developer dependency, we add a new script to the `package.json` file that allows us to run linting checks with a single command:"
   ]
  },
  {
   "cell_type": "code",
   "execution_count": null,
   "metadata": {
    "vscode": {
     "languageId": "json"
    }
   },
   "outputs": [],
   "source": [
    "\"scripts\": {\n",
    "  \"eslint\": \"eslint src\"\n",
    "},"
   ]
  },
  {
   "cell_type": "code",
   "execution_count": null,
   "metadata": {
    "vscode": {
     "languageId": "shellscript"
    }
   },
   "outputs": [],
   "source": [
    "# Next, we create a GitHub repository named gh-actions-demo, and we add the remote to the local repository:\n",
    "git remote add origin git@github.com:USERNAME/gh-actions-demo.git\n",
    "git branch -M main\n",
    "\n",
    "#We also add and commit all of the files and push to the remote repository:\n",
    "git add -A\n",
    "git commit -m \"Adding existing files\"\n",
    "git push -u origin main"
   ]
  },
  {
   "cell_type": "markdown",
   "metadata": {},
   "source": [
    "We build the GitHub workflow by creating a directory called `.github` and a subdirectory called workflows, with a `main.yml` file inside the `workflows` directory.\n",
    "\n",
    "The folder structure should look something like this:"
   ]
  },
  {
   "cell_type": "code",
   "execution_count": null,
   "metadata": {
    "vscode": {
     "languageId": "shellscript"
    }
   },
   "outputs": [],
   "source": [
    ".github\n",
    "  └── workflows\n",
    "      └── main.yml"
   ]
  },
  {
   "cell_type": "markdown",
   "metadata": {},
   "source": [
    "Then we add the workflow to the `main.yml` file, telling GitHub which actions to execute when a specific trigger happens:"
   ]
  },
  {
   "cell_type": "code",
   "execution_count": null,
   "metadata": {
    "vscode": {
     "languageId": "yaml"
    }
   },
   "outputs": [],
   "source": [
    "#  Name of workflow\n",
    "name: Lint workflow\n",
    "# Trigger workflow on all pull requests\n",
    "on:\n",
    "    pull_request:\n",
    "        branches:\n",
    "            - dev\n",
    "            - main\n",
    "# Jobs to carry out\n",
    "jobs:\n",
    "    test:\n",
    "        # Operating system to run job on\n",
    "        runs-on: ubuntu-latest\n",
    "        # Steps in job\n",
    "        steps:\n",
    "            # Get code from repo\n",
    "            - name: Checkout code\n",
    "              uses: actions/checkout@v1\n",
    "            # Install NodeJS\n",
    "            - name: Use Node.js 12.x\n",
    "              uses: actions/setup-node@v1\n",
    "              with:\n",
    "                  node-version: 12.x\n",
    "            # Build the app\n",
    "            - name: 🧰 install deps\n",
    "              run: npm install\n",
    "            - name: Run lint\n",
    "              run: npm run eslint"
   ]
  },
  {
   "cell_type": "markdown",
   "metadata": {},
   "source": [
    "After that, we save the changes, commit all the files, and push to GitHub once again.\n",
    "\n",
    "With the workflow in place in the repository, we can now create a new branch, make a pull request to `dev` or `main`, and witness the workflow in action!"
   ]
  }
 ],
 "metadata": {
  "kernelspec": {
   "display_name": "Python 3",
   "language": "python",
   "name": "python3"
  },
  "language_info": {
   "codemirror_mode": {
    "name": "ipython",
    "version": 3
   },
   "file_extension": ".py",
   "mimetype": "text/x-python",
   "name": "python",
   "nbconvert_exporter": "python",
   "pygments_lexer": "ipython3",
   "version": "3.9.2"
  },
  "orig_nbformat": 4
 },
 "nbformat": 4,
 "nbformat_minor": 2
}
