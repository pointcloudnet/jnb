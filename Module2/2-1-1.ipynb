{
 "cells": [
  {
   "cell_type": "markdown",
   "metadata": {},
   "source": [
    "At the heart of interactive full-stack apps is the need to retrieve data quickly and accurately.\n",
    "\n",
    "🔑 We use GraphQL to efficiently and precisely fetch the data queried in a single request.\n",
    "\n",
    "🔑 GraphQL is a query language that allows us to build even complex queries quickly and concisely, helping to make sure our queries fetch data -- and only the data we need -- quickly.\n",
    "\n",
    "Apollo Sandbox is an Apollo Studio Explorer tool and is a great way to to visually explore how GraphQL can be used to request and fetch data.\n",
    "\n",
    "🔑 Using the Apollo Sandbox, we can enter a query to retrieve data from our database. This query will return the names of all the classes in our database:"
   ]
  },
  {
   "cell_type": "code",
   "execution_count": null,
   "metadata": {
    "vscode": {
     "languageId": "graphql"
    }
   },
   "outputs": [],
   "source": [
    "query classes{\n",
    "    classes {\n",
    "      name\n",
    "    }\n",
    "  }"
   ]
  },
  {
   "cell_type": "markdown",
   "metadata": {},
   "source": [
    "Next, when we click the rectangular play button at the top of the screen we see a JSON object that contains only the data we requested in the response field on the left. This ability to easily write specific queries and return precise results is one of the main advantages of GraphQL.\n",
    "\n",
    "We will be using the Apollo Sandbox in today's class to test our code and make sure our queries work.\n",
    "\n",
    "🔑 To use GraphQL, we will need to set up a GraphQL server. Apollo Server is a popular GraphQL server that can be used as an add-on to an existing Node.js and Express.js server.\n",
    "\n",
    "To add Apollo Server to our existing Express.js and Node.js server structure, we run `npm install @apollo/server` and import the `ApolloServer` class and the `expressMiddleware` helper function:"
   ]
  },
  {
   "cell_type": "code",
   "execution_count": null,
   "metadata": {
    "vscode": {
     "languageId": "javascript"
    }
   },
   "outputs": [],
   "source": [
    "const { ApolloServer } = require('@apollo/server');\n",
    "const { expressMiddleware } = require('@apollo/server/express4');"
   ]
  },
  {
   "cell_type": "markdown",
   "metadata": {},
   "source": [
    "We must also import the `schemas` directory. GraphQL relies on a schema bundle that includes two parts: the `typeDefs`, which defines the schema, and `resolvers`, or functions, that are responsible for populating data for a single field in the schema:"
   ]
  },
  {
   "cell_type": "code",
   "execution_count": null,
   "metadata": {
    "vscode": {
     "languageId": "javascript"
    }
   },
   "outputs": [],
   "source": [
    "const { typeDefs, resolvers } = require('./schemas');"
   ]
  },
  {
   "cell_type": "markdown",
   "metadata": {},
   "source": [
    "We create a new instance of the `ApolloServer` class. The `ApolloServer` class instance takes both `typeDefs` and `resolvers` as parameters:"
   ]
  },
  {
   "cell_type": "code",
   "execution_count": null,
   "metadata": {
    "vscode": {
     "languageId": "javascript"
    }
   },
   "outputs": [],
   "source": [
    "const server = new ApolloServer({\n",
    "    typeDefs,\n",
    "    resolvers\n",
    "  });"
   ]
  },
  {
   "cell_type": "markdown",
   "metadata": {},
   "source": [
    "Next, we create an async function that will start our Apollo Server instance:"
   ]
  },
  {
   "cell_type": "code",
   "execution_count": null,
   "metadata": {
    "vscode": {
     "languageId": "javascript"
    }
   },
   "outputs": [],
   "source": [
    "const startApolloServer = async () => {...}"
   ]
  },
  {
   "cell_type": "markdown",
   "metadata": {},
   "source": [
    "Inside the `startApolloServer` function, we use `await` to start our server. Don't forget, we must wrap `await` inside an `async` function. Otherwise, we will get an error!"
   ]
  },
  {
   "cell_type": "code",
   "execution_count": null,
   "metadata": {
    "vscode": {
     "languageId": "javascript"
    }
   },
   "outputs": [],
   "source": [
    "await server.start()"
   ]
  },
  {
   "cell_type": "markdown",
   "metadata": {},
   "source": [
    "Since our Apollo Server works together with Express, we also create an instance of our Express app inside our async function and use it. Using an Express server gives us more flexibility in our server setup and allows additional configurations."
   ]
  },
  {
   "cell_type": "code",
   "execution_count": null,
   "metadata": {
    "vscode": {
     "languageId": "javascript"
    }
   },
   "outputs": [],
   "source": [
    "const app = express();"
   ]
  },
  {
   "cell_type": "code",
   "execution_count": null,
   "metadata": {
    "vscode": {
     "languageId": "javascript"
    }
   },
   "outputs": [],
   "source": [
    "app.use(express.urlencoded({ extended: false }));\n",
    "app.use(express.json());"
   ]
  },
  {
   "cell_type": "markdown",
   "metadata": {},
   "source": [
    "\n",
    "We call the expressMiddleware method to integrate Express.js with the Apollo Server and connect the schema. This will enable our app to use GraphQL at the /graphql endpoint:\n"
   ]
  },
  {
   "cell_type": "code",
   "execution_count": null,
   "metadata": {
    "vscode": {
     "languageId": "javascript"
    }
   },
   "outputs": [],
   "source": [
    "app.use('/graphql', expressMiddleware(server));"
   ]
  },
  {
   "cell_type": "markdown",
   "metadata": {},
   "source": [
    "Then, we start our database and call `app.listen()` to listen the connections on our specified port."
   ]
  },
  {
   "cell_type": "code",
   "execution_count": null,
   "metadata": {
    "vscode": {
     "languageId": "javascript"
    }
   },
   "outputs": [],
   "source": [
    "db.once('open', () => {\n",
    "  app.listen(PORT, () => {\n",
    "    console.log(`API server running on port ${PORT}!`);\n",
    "    console.log(`Use GraphQL at http://localhost:${PORT}/graphql`);\n",
    "    })\n",
    "  })\n",
    "};"
   ]
  },
  {
   "cell_type": "markdown",
   "metadata": {},
   "source": [
    "Since, we can enclosed our functionality in an `async` function, don't forget to call it at the bottom of of the file to run the scripts!"
   ]
  },
  {
   "cell_type": "code",
   "execution_count": null,
   "metadata": {
    "vscode": {
     "languageId": "javascript"
    }
   },
   "outputs": [],
   "source": [
    "startApolloServer();"
   ]
  },
  {
   "cell_type": "markdown",
   "metadata": {},
   "source": [
    " To integrate GraphQL in our MERN apps, we must connect a GraphQL schema to our Express.js server. We do this by adding an Apollo Server to our existing `service layer` and importing our schema."
   ]
  },
  {
   "cell_type": "code",
   "execution_count": 3,
   "metadata": {},
   "outputs": [
    {
     "name": "stdout",
     "output_type": "stream",
     "text": [
      "{'continents': [{'code': 'AF', 'name': 'Africa'}, {'code': 'AN', 'name': 'Antarctica'}, {'code': 'AS', 'name': 'Asia'}, {'code': 'EU', 'name': 'Europe'}, {'code': 'NA', 'name': 'North America'}, {'code': 'OC', 'name': 'Oceania'}, {'code': 'SA', 'name': 'South America'}]}\n"
     ]
    }
   ],
   "source": [
    "from gql import gql, Client\n",
    "from gql.transport.aiohttp import AIOHTTPTransport\n",
    "\n",
    "# Select your transport with a defined url endpoint\n",
    "transport = AIOHTTPTransport(url=\"https://countries.trevorblades.com/\")\n",
    "\n",
    "# Create a GraphQL client using the defined transport\n",
    "client = Client(transport=transport, fetch_schema_from_transport=True)\n",
    "\n",
    "# Provide a GraphQL query\n",
    "query = gql(\n",
    "    \"\"\"\n",
    "    query getContinents {\n",
    "      continents {\n",
    "        code\n",
    "        name\n",
    "      }\n",
    "    }\n",
    "\"\"\"\n",
    ")\n",
    "\n",
    "# Execute the query on the transport\n",
    "result = await client.execute_async(query)\n",
    "print(result)"
   ]
  },
  {
   "cell_type": "markdown",
   "metadata": {},
   "source": [
    "### 2.1.2 Practice Activity: Queries"
   ]
  },
  {
   "cell_type": "markdown",
   "metadata": {},
   "source": [
    "GraphQL is organized using types and fields. The query type gives us the entry point for our query. The object type provides the fields that we can use to retrieve data. We start by listing the entry point for the data we want to use. Then, we add the fields we want included in our results.\n",
    "\n",
    "🔑 We click on the `schema` icon at the top left under the Apollo logo. Then select SDL inspect our app's schema. If the server has been correctly set up, we should see the schema's object and query types auto-populate.\n",
    "\n",
    "`Object` types represent objects we can fetch and the fields it contains. The Class object has an `_id`, `name`, `building`, and `creditHours` fields. In addition, the `professor` field is a queryable field that holds a single `Professor` object:"
   ]
  },
  {
   "cell_type": "code",
   "execution_count": null,
   "metadata": {
    "vscode": {
     "languageId": "graphql"
    }
   },
   "outputs": [],
   "source": [
    "type Class {\n",
    "  _id: ID\n",
    "  name: String\n",
    "  building: String\n",
    "  creditHours: Int\n",
    "  professor: Professor\n",
    "}"
   ]
  },
  {
   "cell_type": "markdown",
   "metadata": {},
   "source": [
    "🔑 The `Query type` tells us what data we can access and the entry point to that data. To access the array of `Class` objects, we use the `classes` entry point:"
   ]
  },
  {
   "cell_type": "code",
   "execution_count": null,
   "metadata": {
    "vscode": {
     "languageId": "graphql"
    }
   },
   "outputs": [],
   "source": [
    "type Query {\n",
    "    schools: [School]\n",
    "    classes: [Class]\n",
    "    professors: [Professor]\n",
    "  }"
   ]
  },
  {
   "cell_type": "markdown",
   "metadata": {},
   "source": [
    "🔑 To create a query, we start by entering the name of the entry point we want to use. Because we want to work with `Class` objects, we use the `classes` entry point. We then list the fields we want included in our results. The `Class` object contains a `name` field, so we list the field `name` inside the brackets:"
   ]
  },
  {
   "cell_type": "code",
   "execution_count": null,
   "metadata": {
    "vscode": {
     "languageId": "graphql"
    }
   },
   "outputs": [],
   "source": [
    "query classes {\n",
    "    classes {\n",
    "      name\n",
    "    }\n",
    "  }"
   ]
  },
  {
   "cell_type": "markdown",
   "metadata": {},
   "source": [
    "🔑 To access the professor data in the same query, we start by adding `professor` to the list of fields. Then, to display data from the `Professor` object, we use a sub-query to list the names of the fields from the `Professor` object. The Apollo Sandbox makes this simple by providing a list of the names of the fields we can use:"
   ]
  },
  {
   "cell_type": "code",
   "execution_count": null,
   "metadata": {
    "vscode": {
     "languageId": "graphql"
    }
   },
   "outputs": [],
   "source": [
    "query classes {\n",
    "    classes {\n",
    "    name\n",
    "      professor {\n",
    "      name\n",
    "    }\n",
    "  }\n",
    "}"
   ]
  },
  {
   "cell_type": "markdown",
   "metadata": {},
   "source": [
    "GraphQL is organized using types and fields. The query type gives us the entry point for our query. The object type provides the fields that we can use to retrieve data. We start by listing the entry point for the data we want to use. Then, we add the fields we want included in our results."
   ]
  },
  {
   "cell_type": "markdown",
   "metadata": {},
   "source": [
    "### 2.1.3 Practice Activity: typeDefs and Resolvers\n",
    "🔑 For our queries to work, we must define our types to provide access to the data that we will need.\n",
    "\n",
    "🔑 Each object contains a collection of related fields that return a particular type of data. These fields determine what data can be accessed from the database and provide a shape to our data.\n",
    "\n",
    "The `Professor` object contains fields that will return data containing `name`, `_id`, `officeHours`, `officeLocation`, and `studentScore` data. These fields should match how the data in your database is structured:"
   ]
  },
  {
   "cell_type": "code",
   "execution_count": null,
   "metadata": {
    "vscode": {
     "languageId": "graphql"
    }
   },
   "outputs": [],
   "source": [
    "type Professor {\n",
    "    _id: ID\n",
    "    name: String\n",
    "    officeHours: String\n",
    "    officeLocation: String\n",
    "    studentScore: Float\n",
    "  }  "
   ]
  },
  {
   "cell_type": "markdown",
   "metadata": {},
   "source": [
    "🔑 We also use fields to define relationships between objects.\n",
    "\n",
    "The `Class` object needs to access the information about a single related `Professor` object. We use a queryable field to retrieve a single `Professor` object. When the data from the `Class` object is queried, the data from the corresponding `Professor` object will also be available:"
   ]
  },
  {
   "cell_type": "code",
   "execution_count": null,
   "metadata": {
    "vscode": {
     "languageId": "graphql"
    }
   },
   "outputs": [],
   "source": [
    "type Class {\n",
    "    _id: ID\n",
    "    name: String\n",
    "    building: String\n",
    "    creditHours: Int\n",
    "    professor: Professor\n",
    "  }"
   ]
  },
  {
   "cell_type": "markdown",
   "metadata": {},
   "source": [
    "Likewise, the `School` object needs access to all of the `Class` objects. We use a queryable field to retrieve an array of all the `Class` objects:"
   ]
  },
  {
   "cell_type": "code",
   "execution_count": null,
   "metadata": {
    "vscode": {
     "languageId": "graphql"
    }
   },
   "outputs": [],
   "source": [
    "type School {\n",
    "  _id: ID\n",
    "  name: String\n",
    "  location: String\n",
    "  studentCount: Int\n",
    "  classes: [Class]\n",
    "}"
   ]
  },
  {
   "cell_type": "markdown",
   "metadata": {},
   "source": [
    "🔑 To access our data, we must also define an entry point. These entry points control the data that the query has access to. The `professors` entry point is used to access the array of all `Professor` objects. Likewise, the `schools` entry point controls the access to the array of all the `School` objects:"
   ]
  },
  {
   "cell_type": "code",
   "execution_count": null,
   "metadata": {
    "vscode": {
     "languageId": "graphql"
    }
   },
   "outputs": [],
   "source": [
    "type Query {\n",
    "  schools: [School]\n",
    "  classes: [Class]\n",
    "  professors: [Professor]\n",
    "}"
   ]
  },
  {
   "cell_type": "markdown",
   "metadata": {},
   "source": [
    "To respond to a query, we must also write a function that determines how the data for each field is populated when we make a query.\n",
    "\n",
    "🔑 Because we are using Mongoose, we must import our models. These models create and read data from the MongoDB database:"
   ]
  },
  {
   "cell_type": "code",
   "execution_count": null,
   "metadata": {
    "vscode": {
     "languageId": "javascript"
    }
   },
   "outputs": [],
   "source": [
    "const { School, Class, Professor } = require('../models');"
   ]
  },
  {
   "cell_type": "markdown",
   "metadata": {},
   "source": [
    "🔑 When we write a query using the `professors` entry point, we call `.find()` on the `Professor` model that we imported to return all the data contained in the model instance, or document. This populates the fields:"
   ]
  },
  {
   "cell_type": "code",
   "execution_count": null,
   "metadata": {
    "vscode": {
     "languageId": "javascript"
    }
   },
   "outputs": [],
   "source": [
    "professors: async () => {\n",
    "    return await Professor.find({});\n",
    "  }"
   ]
  },
  {
   "cell_type": "markdown",
   "metadata": {},
   "source": [
    "We can also write a resolver that populates the data of a queryable field.\n",
    "\n",
    "🔑 The `.populate()` method allows us to reference documents in other MongoDB collections easily. We use `.populate()`, to fetch data for queryable field `professor`:"
   ]
  },
  {
   "cell_type": "code",
   "execution_count": null,
   "metadata": {
    "vscode": {
     "languageId": "javascript"
    }
   },
   "outputs": [],
   "source": [
    "classes: async () => {\n",
    "    return await Class.find({}).populate('professor');\n",
    "  }"
   ]
  },
  {
   "cell_type": "markdown",
   "metadata": {},
   "source": [
    "To query data with GraphQL, we need a schema that will define the shape of the data. The `Object type` contains fields that will determine what type of data will be returned. The `Query type` defines the entry points. Then, to make our queries work, we write `resolvers`, which are functions used to populate the data fields."
   ]
  },
  {
   "cell_type": "markdown",
   "metadata": {},
   "source": [
    "### 2.1.4 Practice Activity: Query Arguments\n",
    "🔑 We can also create more specific queries by passing arguments.\n",
    "\n",
    "🔑 Up until now, we have been using an entry point that returns an array of all the objects and returns one or more fields in each object. For example, we use the `classes` entry point to return the id of all the `Class` objects:"
   ]
  },
  {
   "cell_type": "code",
   "execution_count": null,
   "metadata": {
    "vscode": {
     "languageId": "graphql"
    }
   },
   "outputs": [],
   "source": [
    "query classIDs {\n",
    "    classes {\n",
    "      _id\n",
    "    }\n",
    "  }"
   ]
  },
  {
   "cell_type": "markdown",
   "metadata": {},
   "source": [
    "Often, though, we want to query a more specific result like a single class.\n",
    "- When we open up the schema tab, we see a new entry point has been defined in the query type. The `class` entry point provides access to a single `Class` object. Note that **single objects don't have brackets around them**!"
   ]
  },
  {
   "cell_type": "code",
   "execution_count": null,
   "metadata": {
    "vscode": {
     "languageId": "graphql"
    }
   },
   "outputs": [],
   "source": [
    "class(id: ID!): Class"
   ]
  },
  {
   "cell_type": "markdown",
   "metadata": {},
   "source": [
    "🔑 The class entry point also has an argument that allows us to define the id of the class object we want to fetch:"
   ]
  },
  {
   "cell_type": "code",
   "execution_count": null,
   "metadata": {
    "vscode": {
     "languageId": "graphql"
    }
   },
   "outputs": [],
   "source": [
    "class(id: ID!)"
   ]
  },
  {
   "cell_type": "markdown",
   "metadata": {},
   "source": [
    "The `ID!` is important here. The `ID` specifies the type of data that must be returned. The exclamation point `!` means that the data is required. Because we want our resolver function to search by ID for a particular class object, if that data is not provided, the search will not work."
   ]
  },
  {
   "cell_type": "markdown",
   "metadata": {},
   "source": [
    "🔑 To create a query, we start with the `class` endpoint and then specify the id of the specific `Class` object we want queried. (Note: the query will not yet return data):"
   ]
  },
  {
   "cell_type": "code",
   "execution_count": null,
   "metadata": {
    "vscode": {
     "languageId": "graphql"
    }
   },
   "outputs": [],
   "source": [
    "query classInline {\n",
    "  class(id: \"1000\") {\n",
    "    name\n",
    "  }\n",
    "}"
   ]
  },
  {
   "cell_type": "markdown",
   "metadata": {},
   "source": [
    "The data passed in the argument is then used by the resolver to retrieve the specific class. Because no resolver has been written, no data is returned. In the next activity, you will be building that resolver to make it work.\n",
    "\n",
    "  - 🔑 To make our queries more durable, we can also add a variable. Variables are identified by a dollar sign `$` and allow us to reuse the same query over and over:"
   ]
  },
  {
   "cell_type": "code",
   "execution_count": null,
   "metadata": {
    "vscode": {
     "languageId": "graphql"
    }
   },
   "outputs": [],
   "source": [
    "query classVariable($id: ID!) {\n",
    "  class(id: $id) {\n",
    "    name\n",
    "  }\n",
    "}"
   ]
  },
  {
   "cell_type": "markdown",
   "metadata": {},
   "source": [
    "We start by requiring our variable and setting the data type of the variable to the required type. For an id, it is the ID type. We also want to make sure that we only run the query if the variable is not null, so we add the exclamation point:"
   ]
  },
  {
   "cell_type": "code",
   "execution_count": null,
   "metadata": {
    "vscode": {
     "languageId": "graphql"
    }
   },
   "outputs": [],
   "source": [
    "query classVariable($id: ID!)"
   ]
  },
  {
   "cell_type": "markdown",
   "metadata": {},
   "source": [
    "We then use the `class` entry point, and assign the `id` a value as we did before. In this case, we set the value of `id` to be the value held in the variable.\n",
    "\n",
    "   - In our completed apps, the value for the variable is typically provided by the client. However, we can test the query using the Apollo Sandbox.\n",
    "\n",
    "   - We enter the variable name and pass a value -- in JSON -- in the Query Variables pane, to test the query. We use just the variable name, not the `$` identifier:"
   ]
  },
  {
   "cell_type": "code",
   "execution_count": null,
   "metadata": {
    "vscode": {
     "languageId": "graphql"
    }
   },
   "outputs": [],
   "source": [
    "{\n",
    "  \"id\": \"1000\"\n",
    "}"
   ]
  },
  {
   "cell_type": "markdown",
   "metadata": {},
   "source": [
    "  - This variable provides the information needed by the resolver to fetch the data. Our next task is to set up the resolver so our queries work.\n",
    "\n",
    "Reflect on the following question and answer pair before continuing on:\n",
    "\n",
    "  - Question: Why would we add an argument to our query?\n",
    "\n",
    "  - Answer: An argument allows us to write more specific queries. When we add an argument to our query, the argument is then passed to our resolver function. The resolver can then use that information to make a more targeted search."
   ]
  },
  {
   "cell_type": "markdown",
   "metadata": {},
   "source": [
    "### 2.1.5 Practice Activity: Mutations\n",
    "GraphQL does more than retrieve existing data. We can also use GraphQL to write data as well.\n",
    "\n",
    "  - 🔑 The mutation type is similar to the query type. However, instead of providing an entry point to read an object or objects, the mutation type provides an entry point to write an object or objects.\n",
    "\n",
    "  - 🔑 We create an entry point `addSchool` and set the object that it will write to to be a `School` object.\n",
    "\n",
    "  - 🔑 We also pass in arguments that define the fields that will be written. This information will be passed to the resolver."
   ]
  },
  {
   "cell_type": "code",
   "execution_count": null,
   "metadata": {
    "vscode": {
     "languageId": "graphql"
    }
   },
   "outputs": [],
   "source": [
    "type Mutation {\n",
    "  addSchool(name: String!, location: String!, studentCount: Int!): School\n",
    "}"
   ]
  },
  {
   "cell_type": "markdown",
   "metadata": {},
   "source": [
    "  - 🔑 We enter the arguments that we wanted passed in as a parameter in the same order as we defined the fields in the mutation type:"
   ]
  },
  {
   "cell_type": "code",
   "execution_count": null,
   "metadata": {
    "vscode": {
     "languageId": "javascript"
    }
   },
   "outputs": [],
   "source": [
    "addSchool: async (parent, { name, location, studentCount }) => { ... }"
   ]
  },
  {
   "cell_type": "markdown",
   "metadata": {},
   "source": [
    "  - 🔑 We call `create()` on the imported School model to write to our MongoDB database:"
   ]
  },
  {
   "cell_type": "code",
   "execution_count": null,
   "metadata": {
    "vscode": {
     "languageId": "javascript"
    }
   },
   "outputs": [],
   "source": [
    "return await School.create({ name, location, studentCount });"
   ]
  },
  {
   "cell_type": "markdown",
   "metadata": {},
   "source": [
    "A mutation is way to write data using GraphQL. We use the mutation type to define the entry point to the data to be written and a mutation resolver to provide the functionality to write the data to our database."
   ]
  },
  {
   "cell_type": "markdown",
   "metadata": {},
   "source": [
    "## 2.2 Lesson Plan: Integrating the Front-End\n",
    "### 2.2.1 Practice Activity: MERN Setup\n",
    "🔑 The React.js front end is located on a separate port from our GraphQL API.\n",
    "\n",
    "When we seed our database and open the app, we see a roster of friends and their endorsed skills.\n",
    "\n",
    "Each time this page loads, the client sends a request to the API. The returned data is then displayed on the page, allowing us to see the roster.\n",
    "\n",
    "🔑 When we look at the structure of our project directory, we see all the code needed to run the front end is contained in the client directory and all the code needed to run the back end is contained in the server directory.\n",
    "\n",
    "Because they are two separate apps, we need to use two separate terminals to start up each app independently and run them on their own ports.\n",
    "\n",
    "However, in a development environment, using two terminals can be cumbersome. So, to start up both apps simultaneously, we can add a third app located at the root. This will allow us to use just one set of commands -- and a single terminal -- to control both apps.\n",
    "\n",
    "🔑 The root-level `package.json` belongs to this third app. We install `concurrently` as a development dependency at the root level so that we can run multiple commands at the same time during development. The installed dependency appears in the `package.json`:"
   ]
  },
  {
   "cell_type": "code",
   "execution_count": null,
   "metadata": {
    "vscode": {
     "languageId": "json"
    }
   },
   "outputs": [],
   "source": [
    "\"devDependencies\": {\n",
    "  \"concurrently\": \"^8.2.0\"\n",
    "}"
   ]
  },
  {
   "cell_type": "markdown",
   "metadata": {},
   "source": [
    "🔑 We then add the scripts needed to start up both apps using a single terminal:"
   ]
  },
  {
   "cell_type": "code",
   "execution_count": null,
   "metadata": {
    "vscode": {
     "languageId": "json"
    }
   },
   "outputs": [],
   "source": [
    "\"scripts\": {\n",
    "    \"start\": \"node server/server.js\",\n",
    "    \"develop\": \"concurrently \\\"cd server && npm run watch\\\" \\\"cd client && npm run dev\\\"\",\n",
    "    \"install\": \"cd server && npm i && cd ../client && npm i\",\n",
    "    \"seed\": \"cd server && npm run seed\",\n",
    "    \"build\": \"cd client && npm run build\"\n",
    "  }  "
   ]
  },
  {
   "cell_type": "markdown",
   "metadata": {},
   "source": [
    "🔑 Please note that as of the `MERN-Setup` folder, we no longer manually add the `\"start\": \"vite\"` script to the client-level `package.json`, instead we fallback to using the default `\"dev\": \"vite\"` script, referenced here in the `concurrently` command."
   ]
  },
  {
   "cell_type": "markdown",
   "metadata": {},
   "source": [
    "While in development, we also need a way for our front end to send requests to our back end on a different port.\n",
    "\n",
    "To do this, we will use a proxy to handle requests and update them to include the URL location of our back end.\n",
    "\n",
    "We add a `proxy` field to the client's `vite.config.js` and add the URL of our back end as the value. Now, while in development, requests will be prefixed by `\"http://localhost:3001/graphql\"` to allow them to be received by the API."
   ]
  },
  {
   "cell_type": "code",
   "execution_count": null,
   "metadata": {
    "vscode": {
     "languageId": "graphql"
    }
   },
   "outputs": [],
   "source": [
    "proxy: {\n",
    "    '/graphql': {\n",
    "      target: 'http://localhost:3001',\n",
    "      changeOrigin: true,\n",
    "      secure: false,\n",
    "    },\n",
    "  },"
   ]
  },
  {
   "cell_type": "markdown",
   "metadata": {},
   "source": [
    "Question: How does our front end and back end communicate when running on separate ports?\n",
    "\n",
    "Answer: In the client directory's `vite.config.js` we add a proxy that identifies the port where the server is running. This allows the front end (the client) to send requests to the API (the server). We can then use the npm package `concurrently` to start up both the front end and back end during development, using `npm run develop`."
   ]
  },
  {
   "cell_type": "markdown",
   "metadata": {},
   "source": [
    "### 2.2.2 Practice Activity: useQuery\n",
    "Navigate to `useQuery` in your command line and `run npm install` and `npm run develop`.\n",
    "\n",
    "🔑 You can opt to run `npm run seed` to clean up your database if you wish, but it is not required."
   ]
  }
 ],
 "metadata": {
  "kernelspec": {
   "display_name": "Python 3",
   "language": "python",
   "name": "python3"
  },
  "language_info": {
   "codemirror_mode": {
    "name": "ipython",
    "version": 3
   },
   "file_extension": ".py",
   "mimetype": "text/x-python",
   "name": "python",
   "nbconvert_exporter": "python",
   "pygments_lexer": "ipython3",
   "version": "3.9.2"
  },
  "orig_nbformat": 4
 },
 "nbformat": 4,
 "nbformat_minor": 2
}
