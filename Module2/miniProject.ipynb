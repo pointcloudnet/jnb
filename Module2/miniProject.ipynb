{
 "cells": [
  {
   "cell_type": "markdown",
   "metadata": {},
   "source": [
    "# Module 2 Mini-Project Introduction\n",
    "Navigate to Mini-Project/Main in your command line and run npm install, npm run seed, and npm run develop.\n",
    "\n",
    "Open localhost:3000/ in your browser and observe the following:\n",
    "\n",
    "🔑 As developers, we are often asked to take an existing, functional app and update it to incorporate a new technology. Our task is to convert the app from using an existing RESTful API to an app that uses a GraphQL API built with Apollo Server and Apollo Client.\n",
    "\n",
    "🔑 When we open the homepage localhost:3000/ route, we see a list of technologies.\n",
    "\n",
    "🔑 When we navigate to localhost:3000/matchup, we are presented with a form for the user to input matchup choices.\n",
    "\n",
    "🔑 When we click on the Create Matchups pages, we navigate to a new page at localhost:3000/matchup/<id>. That page shows only the information for our new matchup.\n",
    "\n",
    "🔑 For this code, the Apollo Client code has been supplied for you. Make sure to ONLY uncomment it when the server-side code is up and running.\n",
    "\n",
    "Reflect on the following question and answer pairs before continuing on:\n",
    "Question: How would we build this?\n",
    "\n",
    "Answer: We use Apollo Client to set up our React.js front end to send requests and Apollo Server on the back end to create a GraphQL API.\n",
    "\n",
    "## Module 2.1 Mini-Project:  Tech Matchup App\n",
    "In this mini-project, you are given a fully functioning MERN-stack application that allows users to create a matchup between two technologies and vote on their favorite technology. The application currently uses a RESTful API. You will need to refactor it to use a GraphQL API built with Apollo Server and Apollo Client. While the following page will include a walkthrough, you may attempt completing the project without it first.\n",
    "\n",
    "### Activity\n",
    "Your goal is to resolve the following issues:\n",
    "- As a user, I want to see a list of matchups.\n",
    "- As a user, I want to be able to create a matchup between two technologies.\n",
    "- As a user, I want to be able to vote for one of the two technologies in the matchup.\n",
    "- As a user, I want to see the current number of votes for each technology in the matchup.\n",
    "\n",
    "### Goals\n",
    "The mini-project is complete when the following criteria are met:\n",
    "- The `/` homepage route renders a list of technologies.\n",
    "- The `/matchup` route renders a form to choose two technologies to create a matchup.\n",
    "- The `/matchup/:id` route renders a matchup to vote on.\n",
    "- An Apollo Server is set up to use GraphQL queries and mutations to fetch and modify data, replacing the existing RESTful API.\n",
    "- Apollo Client is set up so that requests can communicate with an Apollo Server.\n",
    "- A 404 page `NotFound` is rendered if the user tries to access a page that doesn't exist.\n",
    "\n",
    "\n",
    "### 💡 Hints\n",
    "- After implementing GraphQL on the server, what tool can you use to test the queries and mutations?"
   ]
  }
 ],
 "metadata": {
  "language_info": {
   "name": "python"
  },
  "orig_nbformat": 4
 },
 "nbformat": 4,
 "nbformat_minor": 2
}
